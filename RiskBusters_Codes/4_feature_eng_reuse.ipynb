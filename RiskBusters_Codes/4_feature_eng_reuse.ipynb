{
 "cells": [
  {
   "cell_type": "code",
   "execution_count": 80,
   "metadata": {},
   "outputs": [],
   "source": [
    "import pandas as pd\n",
    "from feature_engeneering import modify_df\n",
    "from feature_engeneering import drop_columns\n",
    "from feature_engeneering import create_differences_columns\n",
    "from feature_engeneering import drop_columns_after_transformation"
   ]
  },
  {
   "cell_type": "code",
   "execution_count": 81,
   "metadata": {},
   "outputs": [],
   "source": [
    "df = pd.read_csv('../data/output/in_time_cleaned.csv')"
   ]
  },
  {
   "cell_type": "code",
   "execution_count": 82,
   "metadata": {},
   "outputs": [
    {
     "name": "stderr",
     "output_type": "stream",
     "text": [
      "/Users/kacpergruca/Documents/Projekty/ING_Lions_Den_2024_final/RiskBusters_Codes/feature_engeneering.py:30: UserWarning: Parsing dates in DD/MM/YYYY format when dayfirst=False (the default) was specified. This may lead to inconsistently parsed dates! Specify a format to ensure consistent parsing.\n",
      "  df['Birth_date'] = pd.to_datetime(df['Birth_date'])\n"
     ]
    }
   ],
   "source": [
    "df = modify_df(df)"
   ]
  },
  {
   "cell_type": "code",
   "execution_count": 83,
   "metadata": {},
   "outputs": [],
   "source": [
    "columns_to_delete_H = ['inc_transactions_amt_H', 'out_transactions_amt_H',\n",
    "                       'overdue_credit_card_H', 'overdue_mortgage_H', 'income_H',\n",
    "                       'current_amount_balance_H', 'savings_amount_balance_H', 'inc_transactions_amt_H',\n",
    "                        'Savings_amount_balance_col_H', 'Current_amount_balance_col_H',\n",
    "                        'Overdue_term_loan_H', 'Overdue_credit_card_H', 'Overdue_mortgage_H',\n",
    "                        'inc_transactions_H', 'out_transactions_H', 'inc_transactions_amt_H', 'out_transactions_amt_H',\n",
    "                        'utilized_limit_in_revolving_loans_H', 'limit_in_revolving_loans_H']\n",
    "\n",
    "columns_to_delete = ['Current_installment', 'Birth_date', 'Ref_month',\n",
    "                     'Contract_end_date', 'Oldest_account_date']"
   ]
  },
  {
   "cell_type": "code",
   "execution_count": 84,
   "metadata": {},
   "outputs": [
    {
     "data": {
      "text/plain": [
       "['inc_transactions_amt_H1',\n",
       " 'inc_transactions_amt_H2',\n",
       " 'inc_transactions_amt_H3',\n",
       " 'inc_transactions_amt_H4',\n",
       " 'inc_transactions_amt_H5',\n",
       " 'inc_transactions_amt_H6',\n",
       " 'inc_transactions_amt_H7',\n",
       " 'inc_transactions_amt_H8',\n",
       " 'inc_transactions_amt_H9',\n",
       " 'inc_transactions_amt_H10',\n",
       " 'inc_transactions_amt_H11',\n",
       " 'inc_transactions_amt_H12',\n",
       " 'out_transactions_amt_H1',\n",
       " 'out_transactions_amt_H2',\n",
       " 'out_transactions_amt_H3',\n",
       " 'out_transactions_amt_H4',\n",
       " 'out_transactions_amt_H5',\n",
       " 'out_transactions_amt_H6',\n",
       " 'out_transactions_amt_H7',\n",
       " 'out_transactions_amt_H8',\n",
       " 'out_transactions_amt_H9',\n",
       " 'out_transactions_amt_H10',\n",
       " 'out_transactions_amt_H11',\n",
       " 'out_transactions_amt_H12',\n",
       " 'inc_transactions_amt_H1',\n",
       " 'inc_transactions_amt_H2',\n",
       " 'inc_transactions_amt_H3',\n",
       " 'inc_transactions_amt_H4',\n",
       " 'inc_transactions_amt_H5',\n",
       " 'inc_transactions_amt_H6',\n",
       " 'inc_transactions_amt_H7',\n",
       " 'inc_transactions_amt_H8',\n",
       " 'inc_transactions_amt_H9',\n",
       " 'inc_transactions_amt_H10',\n",
       " 'inc_transactions_amt_H11',\n",
       " 'inc_transactions_amt_H12',\n",
       " 'Overdue_term_loan_H1',\n",
       " 'Overdue_term_loan_H2',\n",
       " 'Overdue_term_loan_H3',\n",
       " 'Overdue_term_loan_H4',\n",
       " 'Overdue_term_loan_H5',\n",
       " 'Overdue_term_loan_H6',\n",
       " 'Overdue_term_loan_H7',\n",
       " 'Overdue_term_loan_H8',\n",
       " 'Overdue_term_loan_H9',\n",
       " 'Overdue_term_loan_H10',\n",
       " 'Overdue_term_loan_H11',\n",
       " 'Overdue_term_loan_H12',\n",
       " 'Overdue_credit_card_H1',\n",
       " 'Overdue_credit_card_H2',\n",
       " 'Overdue_credit_card_H3',\n",
       " 'Overdue_credit_card_H4',\n",
       " 'Overdue_credit_card_H5',\n",
       " 'Overdue_credit_card_H6',\n",
       " 'Overdue_credit_card_H7',\n",
       " 'Overdue_credit_card_H8',\n",
       " 'Overdue_credit_card_H9',\n",
       " 'Overdue_credit_card_H10',\n",
       " 'Overdue_credit_card_H11',\n",
       " 'Overdue_credit_card_H12',\n",
       " 'Overdue_mortgage_H1',\n",
       " 'Overdue_mortgage_H2',\n",
       " 'Overdue_mortgage_H3',\n",
       " 'Overdue_mortgage_H4',\n",
       " 'Overdue_mortgage_H5',\n",
       " 'Overdue_mortgage_H6',\n",
       " 'Overdue_mortgage_H7',\n",
       " 'Overdue_mortgage_H8',\n",
       " 'Overdue_mortgage_H9',\n",
       " 'Overdue_mortgage_H10',\n",
       " 'Overdue_mortgage_H11',\n",
       " 'Overdue_mortgage_H12',\n",
       " 'inc_transactions_H1',\n",
       " 'inc_transactions_H2',\n",
       " 'inc_transactions_H3',\n",
       " 'inc_transactions_H4',\n",
       " 'inc_transactions_H5',\n",
       " 'inc_transactions_H6',\n",
       " 'inc_transactions_H7',\n",
       " 'inc_transactions_H8',\n",
       " 'inc_transactions_H9',\n",
       " 'inc_transactions_H10',\n",
       " 'inc_transactions_H11',\n",
       " 'inc_transactions_H12',\n",
       " 'out_transactions_H1',\n",
       " 'out_transactions_H2',\n",
       " 'out_transactions_H3',\n",
       " 'out_transactions_H4',\n",
       " 'out_transactions_H5',\n",
       " 'out_transactions_H6',\n",
       " 'out_transactions_H7',\n",
       " 'out_transactions_H8',\n",
       " 'out_transactions_H9',\n",
       " 'out_transactions_H10',\n",
       " 'out_transactions_H11',\n",
       " 'out_transactions_H12',\n",
       " 'inc_transactions_amt_H1',\n",
       " 'inc_transactions_amt_H2',\n",
       " 'inc_transactions_amt_H3',\n",
       " 'inc_transactions_amt_H4',\n",
       " 'inc_transactions_amt_H5',\n",
       " 'inc_transactions_amt_H6',\n",
       " 'inc_transactions_amt_H7',\n",
       " 'inc_transactions_amt_H8',\n",
       " 'inc_transactions_amt_H9',\n",
       " 'inc_transactions_amt_H10',\n",
       " 'inc_transactions_amt_H11',\n",
       " 'inc_transactions_amt_H12',\n",
       " 'out_transactions_amt_H1',\n",
       " 'out_transactions_amt_H2',\n",
       " 'out_transactions_amt_H3',\n",
       " 'out_transactions_amt_H4',\n",
       " 'out_transactions_amt_H5',\n",
       " 'out_transactions_amt_H6',\n",
       " 'out_transactions_amt_H7',\n",
       " 'out_transactions_amt_H8',\n",
       " 'out_transactions_amt_H9',\n",
       " 'out_transactions_amt_H10',\n",
       " 'out_transactions_amt_H11',\n",
       " 'out_transactions_amt_H12',\n",
       " 'utilized_limit_in_revolving_loans_H1',\n",
       " 'utilized_limit_in_revolving_loans_H2',\n",
       " 'utilized_limit_in_revolving_loans_H3',\n",
       " 'utilized_limit_in_revolving_loans_H4',\n",
       " 'utilized_limit_in_revolving_loans_H5',\n",
       " 'utilized_limit_in_revolving_loans_H6',\n",
       " 'utilized_limit_in_revolving_loans_H7',\n",
       " 'utilized_limit_in_revolving_loans_H8',\n",
       " 'utilized_limit_in_revolving_loans_H9',\n",
       " 'utilized_limit_in_revolving_loans_H10',\n",
       " 'utilized_limit_in_revolving_loans_H11',\n",
       " 'utilized_limit_in_revolving_loans_H12',\n",
       " 'limit_in_revolving_loans_H1',\n",
       " 'limit_in_revolving_loans_H2',\n",
       " 'limit_in_revolving_loans_H3',\n",
       " 'limit_in_revolving_loans_H4',\n",
       " 'limit_in_revolving_loans_H5',\n",
       " 'limit_in_revolving_loans_H6',\n",
       " 'limit_in_revolving_loans_H7',\n",
       " 'limit_in_revolving_loans_H8',\n",
       " 'limit_in_revolving_loans_H9',\n",
       " 'limit_in_revolving_loans_H10',\n",
       " 'limit_in_revolving_loans_H11',\n",
       " 'limit_in_revolving_loans_H12']"
      ]
     },
     "execution_count": 84,
     "metadata": {},
     "output_type": "execute_result"
    }
   ],
   "source": [
    "# Generate a list of columns to drop\n",
    "columns_to_drop = [col + str(i) for col in columns_to_delete_H for i in range(1, 13)]\n",
    "\n",
    "# Filter out columns that exist in the DataFrame\n",
    "columns_to_drop = [col for col in columns_to_drop if col in df.columns]\n",
    "columns_to_drop"
   ]
  },
  {
   "cell_type": "code",
   "execution_count": 85,
   "metadata": {},
   "outputs": [],
   "source": [
    "df = drop_columns(df, columns_to_delete_H, columns_to_delete)"
   ]
  },
  {
   "cell_type": "code",
   "execution_count": 86,
   "metadata": {},
   "outputs": [
    {
     "data": {
      "text/plain": [
       "['DPD_term_loan_H',\n",
       " 'DPD_credit_card_H',\n",
       " 'DPD_mortgage_H',\n",
       " 'Default_flag_H',\n",
       " 'Os_term_loan_H',\n",
       " 'Os_credit_card_H',\n",
       " 'Os_mortgage_H',\n",
       " 'Payments_term_loan_H',\n",
       " 'Payments_credit_card_H',\n",
       " 'Payments_mortgage_H',\n",
       " 'Income_H',\n",
       " 'Current_amount_balance_H',\n",
       " 'Savings_amount_balance_H',\n",
       " 'DTI_H',\n",
       " 'Overdue_to_Income_Ratio_H',\n",
       " 'Financial_Liquidity_Ratio_H',\n",
       " 'Financial_stability_index_H',\n",
       " 'Overdue_aggregation_H',\n",
       " 'Avg_inc_transactions_H',\n",
       " 'Avg_out_transactions_H']"
      ]
     },
     "execution_count": 86,
     "metadata": {},
     "output_type": "execute_result"
    }
   ],
   "source": [
    "# list of columns which has _H in the name in df_tes \n",
    "columns_H = [col for col in df.columns if '_H12' in col]\n",
    "\n",
    "# delete last letter from oevery column in columns_H\n",
    "columns_H = [col[:-2] for col in columns_H]\n",
    "columns_H"
   ]
  },
  {
   "cell_type": "code",
   "execution_count": 87,
   "metadata": {},
   "outputs": [
    {
     "name": "stderr",
     "output_type": "stream",
     "text": [
      "/Users/kacpergruca/Documents/Projekty/ING_Lions_Den_2024_final/RiskBusters_Codes/feature_engeneering.py:276: PerformanceWarning: DataFrame is highly fragmented.  This is usually the result of calling `frame.insert` many times, which has poor performance.  Consider joining all columns at once using pd.concat(axis=1) instead. To get a de-fragmented frame, use `newframe = frame.copy()`\n",
      "  df[new_column_name] = (df[column + first_column_sufix] - df[column + second_column_sufix])\n",
      "/Users/kacpergruca/Documents/Projekty/ING_Lions_Den_2024_final/RiskBusters_Codes/feature_engeneering.py:276: PerformanceWarning: DataFrame is highly fragmented.  This is usually the result of calling `frame.insert` many times, which has poor performance.  Consider joining all columns at once using pd.concat(axis=1) instead. To get a de-fragmented frame, use `newframe = frame.copy()`\n",
      "  df[new_column_name] = (df[column + first_column_sufix] - df[column + second_column_sufix])\n",
      "/Users/kacpergruca/Documents/Projekty/ING_Lions_Den_2024_final/RiskBusters_Codes/feature_engeneering.py:276: PerformanceWarning: DataFrame is highly fragmented.  This is usually the result of calling `frame.insert` many times, which has poor performance.  Consider joining all columns at once using pd.concat(axis=1) instead. To get a de-fragmented frame, use `newframe = frame.copy()`\n",
      "  df[new_column_name] = (df[column + first_column_sufix] - df[column + second_column_sufix])\n",
      "/Users/kacpergruca/Documents/Projekty/ING_Lions_Den_2024_final/RiskBusters_Codes/feature_engeneering.py:276: PerformanceWarning: DataFrame is highly fragmented.  This is usually the result of calling `frame.insert` many times, which has poor performance.  Consider joining all columns at once using pd.concat(axis=1) instead. To get a de-fragmented frame, use `newframe = frame.copy()`\n",
      "  df[new_column_name] = (df[column + first_column_sufix] - df[column + second_column_sufix])\n",
      "/Users/kacpergruca/Documents/Projekty/ING_Lions_Den_2024_final/RiskBusters_Codes/feature_engeneering.py:276: PerformanceWarning: DataFrame is highly fragmented.  This is usually the result of calling `frame.insert` many times, which has poor performance.  Consider joining all columns at once using pd.concat(axis=1) instead. To get a de-fragmented frame, use `newframe = frame.copy()`\n",
      "  df[new_column_name] = (df[column + first_column_sufix] - df[column + second_column_sufix])\n",
      "/Users/kacpergruca/Documents/Projekty/ING_Lions_Den_2024_final/RiskBusters_Codes/feature_engeneering.py:276: PerformanceWarning: DataFrame is highly fragmented.  This is usually the result of calling `frame.insert` many times, which has poor performance.  Consider joining all columns at once using pd.concat(axis=1) instead. To get a de-fragmented frame, use `newframe = frame.copy()`\n",
      "  df[new_column_name] = (df[column + first_column_sufix] - df[column + second_column_sufix])\n",
      "/Users/kacpergruca/Documents/Projekty/ING_Lions_Den_2024_final/RiskBusters_Codes/feature_engeneering.py:276: PerformanceWarning: DataFrame is highly fragmented.  This is usually the result of calling `frame.insert` many times, which has poor performance.  Consider joining all columns at once using pd.concat(axis=1) instead. To get a de-fragmented frame, use `newframe = frame.copy()`\n",
      "  df[new_column_name] = (df[column + first_column_sufix] - df[column + second_column_sufix])\n",
      "/Users/kacpergruca/Documents/Projekty/ING_Lions_Den_2024_final/RiskBusters_Codes/feature_engeneering.py:276: PerformanceWarning: DataFrame is highly fragmented.  This is usually the result of calling `frame.insert` many times, which has poor performance.  Consider joining all columns at once using pd.concat(axis=1) instead. To get a de-fragmented frame, use `newframe = frame.copy()`\n",
      "  df[new_column_name] = (df[column + first_column_sufix] - df[column + second_column_sufix])\n",
      "/Users/kacpergruca/Documents/Projekty/ING_Lions_Den_2024_final/RiskBusters_Codes/feature_engeneering.py:276: PerformanceWarning: DataFrame is highly fragmented.  This is usually the result of calling `frame.insert` many times, which has poor performance.  Consider joining all columns at once using pd.concat(axis=1) instead. To get a de-fragmented frame, use `newframe = frame.copy()`\n",
      "  df[new_column_name] = (df[column + first_column_sufix] - df[column + second_column_sufix])\n",
      "/Users/kacpergruca/Documents/Projekty/ING_Lions_Den_2024_final/RiskBusters_Codes/feature_engeneering.py:276: PerformanceWarning: DataFrame is highly fragmented.  This is usually the result of calling `frame.insert` many times, which has poor performance.  Consider joining all columns at once using pd.concat(axis=1) instead. To get a de-fragmented frame, use `newframe = frame.copy()`\n",
      "  df[new_column_name] = (df[column + first_column_sufix] - df[column + second_column_sufix])\n",
      "/Users/kacpergruca/Documents/Projekty/ING_Lions_Den_2024_final/RiskBusters_Codes/feature_engeneering.py:276: PerformanceWarning: DataFrame is highly fragmented.  This is usually the result of calling `frame.insert` many times, which has poor performance.  Consider joining all columns at once using pd.concat(axis=1) instead. To get a de-fragmented frame, use `newframe = frame.copy()`\n",
      "  df[new_column_name] = (df[column + first_column_sufix] - df[column + second_column_sufix])\n",
      "/Users/kacpergruca/Documents/Projekty/ING_Lions_Den_2024_final/RiskBusters_Codes/feature_engeneering.py:276: PerformanceWarning: DataFrame is highly fragmented.  This is usually the result of calling `frame.insert` many times, which has poor performance.  Consider joining all columns at once using pd.concat(axis=1) instead. To get a de-fragmented frame, use `newframe = frame.copy()`\n",
      "  df[new_column_name] = (df[column + first_column_sufix] - df[column + second_column_sufix])\n",
      "/Users/kacpergruca/Documents/Projekty/ING_Lions_Den_2024_final/RiskBusters_Codes/feature_engeneering.py:276: PerformanceWarning: DataFrame is highly fragmented.  This is usually the result of calling `frame.insert` many times, which has poor performance.  Consider joining all columns at once using pd.concat(axis=1) instead. To get a de-fragmented frame, use `newframe = frame.copy()`\n",
      "  df[new_column_name] = (df[column + first_column_sufix] - df[column + second_column_sufix])\n",
      "/Users/kacpergruca/Documents/Projekty/ING_Lions_Den_2024_final/RiskBusters_Codes/feature_engeneering.py:276: PerformanceWarning: DataFrame is highly fragmented.  This is usually the result of calling `frame.insert` many times, which has poor performance.  Consider joining all columns at once using pd.concat(axis=1) instead. To get a de-fragmented frame, use `newframe = frame.copy()`\n",
      "  df[new_column_name] = (df[column + first_column_sufix] - df[column + second_column_sufix])\n",
      "/Users/kacpergruca/Documents/Projekty/ING_Lions_Den_2024_final/RiskBusters_Codes/feature_engeneering.py:276: PerformanceWarning: DataFrame is highly fragmented.  This is usually the result of calling `frame.insert` many times, which has poor performance.  Consider joining all columns at once using pd.concat(axis=1) instead. To get a de-fragmented frame, use `newframe = frame.copy()`\n",
      "  df[new_column_name] = (df[column + first_column_sufix] - df[column + second_column_sufix])\n",
      "/Users/kacpergruca/Documents/Projekty/ING_Lions_Den_2024_final/RiskBusters_Codes/feature_engeneering.py:276: PerformanceWarning: DataFrame is highly fragmented.  This is usually the result of calling `frame.insert` many times, which has poor performance.  Consider joining all columns at once using pd.concat(axis=1) instead. To get a de-fragmented frame, use `newframe = frame.copy()`\n",
      "  df[new_column_name] = (df[column + first_column_sufix] - df[column + second_column_sufix])\n",
      "/Users/kacpergruca/Documents/Projekty/ING_Lions_Den_2024_final/RiskBusters_Codes/feature_engeneering.py:276: PerformanceWarning: DataFrame is highly fragmented.  This is usually the result of calling `frame.insert` many times, which has poor performance.  Consider joining all columns at once using pd.concat(axis=1) instead. To get a de-fragmented frame, use `newframe = frame.copy()`\n",
      "  df[new_column_name] = (df[column + first_column_sufix] - df[column + second_column_sufix])\n"
     ]
    }
   ],
   "source": [
    "df = create_differences_columns(df, columns_H)"
   ]
  },
  {
   "cell_type": "code",
   "execution_count": 88,
   "metadata": {},
   "outputs": [
    {
     "data": {
      "text/html": [
       "<div>\n",
       "<style scoped>\n",
       "    .dataframe tbody tr th:only-of-type {\n",
       "        vertical-align: middle;\n",
       "    }\n",
       "\n",
       "    .dataframe tbody tr th {\n",
       "        vertical-align: top;\n",
       "    }\n",
       "\n",
       "    .dataframe thead th {\n",
       "        text-align: right;\n",
       "    }\n",
       "</style>\n",
       "<table border=\"1\" class=\"dataframe\">\n",
       "  <thead>\n",
       "    <tr style=\"text-align: right;\">\n",
       "      <th></th>\n",
       "      <th>0</th>\n",
       "    </tr>\n",
       "  </thead>\n",
       "  <tbody>\n",
       "    <tr>\n",
       "      <th>0</th>\n",
       "      <td>Customer_id</td>\n",
       "    </tr>\n",
       "    <tr>\n",
       "      <th>1</th>\n",
       "      <td>No_dependants</td>\n",
       "    </tr>\n",
       "    <tr>\n",
       "      <th>2</th>\n",
       "      <td>Time_in_address</td>\n",
       "    </tr>\n",
       "    <tr>\n",
       "      <th>3</th>\n",
       "      <td>Time_in_current_job</td>\n",
       "    </tr>\n",
       "    <tr>\n",
       "      <th>4</th>\n",
       "      <td>Credit_cards</td>\n",
       "    </tr>\n",
       "    <tr>\n",
       "      <th>...</th>\n",
       "      <td>...</td>\n",
       "    </tr>\n",
       "    <tr>\n",
       "      <th>347</th>\n",
       "      <td>Avg_inc_transactions_H0_H6</td>\n",
       "    </tr>\n",
       "    <tr>\n",
       "      <th>348</th>\n",
       "      <td>Avg_inc_transactions_H0_H12</td>\n",
       "    </tr>\n",
       "    <tr>\n",
       "      <th>349</th>\n",
       "      <td>Avg_out_transactions_H0_H3</td>\n",
       "    </tr>\n",
       "    <tr>\n",
       "      <th>350</th>\n",
       "      <td>Avg_out_transactions_H0_H6</td>\n",
       "    </tr>\n",
       "    <tr>\n",
       "      <th>351</th>\n",
       "      <td>Avg_out_transactions_H0_H12</td>\n",
       "    </tr>\n",
       "  </tbody>\n",
       "</table>\n",
       "<p>352 rows × 1 columns</p>\n",
       "</div>"
      ],
      "text/plain": [
       "                               0\n",
       "0                    Customer_id\n",
       "1                  No_dependants\n",
       "2                Time_in_address\n",
       "3            Time_in_current_job\n",
       "4                   Credit_cards\n",
       "..                           ...\n",
       "347   Avg_inc_transactions_H0_H6\n",
       "348  Avg_inc_transactions_H0_H12\n",
       "349   Avg_out_transactions_H0_H3\n",
       "350   Avg_out_transactions_H0_H6\n",
       "351  Avg_out_transactions_H0_H12\n",
       "\n",
       "[352 rows x 1 columns]"
      ]
     },
     "execution_count": 88,
     "metadata": {},
     "output_type": "execute_result"
    }
   ],
   "source": [
    "columns = df.columns\n",
    "columns = pd.DataFrame(columns)\n",
    "columns"
   ]
  },
  {
   "cell_type": "code",
   "execution_count": 89,
   "metadata": {},
   "outputs": [],
   "source": [
    "df = drop_columns_after_transformation(df, columns_H)"
   ]
  },
  {
   "cell_type": "code",
   "execution_count": 90,
   "metadata": {},
   "outputs": [
    {
     "data": {
      "text/html": [
       "<div>\n",
       "<style scoped>\n",
       "    .dataframe tbody tr th:only-of-type {\n",
       "        vertical-align: middle;\n",
       "    }\n",
       "\n",
       "    .dataframe tbody tr th {\n",
       "        vertical-align: top;\n",
       "    }\n",
       "\n",
       "    .dataframe thead th {\n",
       "        text-align: right;\n",
       "    }\n",
       "</style>\n",
       "<table border=\"1\" class=\"dataframe\">\n",
       "  <thead>\n",
       "    <tr style=\"text-align: right;\">\n",
       "      <th></th>\n",
       "      <th>0</th>\n",
       "    </tr>\n",
       "  </thead>\n",
       "  <tbody>\n",
       "    <tr>\n",
       "      <th>0</th>\n",
       "      <td>Customer_id</td>\n",
       "    </tr>\n",
       "    <tr>\n",
       "      <th>1</th>\n",
       "      <td>No_dependants</td>\n",
       "    </tr>\n",
       "    <tr>\n",
       "      <th>2</th>\n",
       "      <td>Time_in_address</td>\n",
       "    </tr>\n",
       "    <tr>\n",
       "      <th>3</th>\n",
       "      <td>Time_in_current_job</td>\n",
       "    </tr>\n",
       "    <tr>\n",
       "      <th>4</th>\n",
       "      <td>Credit_cards</td>\n",
       "    </tr>\n",
       "    <tr>\n",
       "      <th>...</th>\n",
       "      <td>...</td>\n",
       "    </tr>\n",
       "    <tr>\n",
       "      <th>107</th>\n",
       "      <td>Avg_inc_transactions_H0_H6</td>\n",
       "    </tr>\n",
       "    <tr>\n",
       "      <th>108</th>\n",
       "      <td>Avg_inc_transactions_H0_H12</td>\n",
       "    </tr>\n",
       "    <tr>\n",
       "      <th>109</th>\n",
       "      <td>Avg_out_transactions_H0_H3</td>\n",
       "    </tr>\n",
       "    <tr>\n",
       "      <th>110</th>\n",
       "      <td>Avg_out_transactions_H0_H6</td>\n",
       "    </tr>\n",
       "    <tr>\n",
       "      <th>111</th>\n",
       "      <td>Avg_out_transactions_H0_H12</td>\n",
       "    </tr>\n",
       "  </tbody>\n",
       "</table>\n",
       "<p>112 rows × 1 columns</p>\n",
       "</div>"
      ],
      "text/plain": [
       "                               0\n",
       "0                    Customer_id\n",
       "1                  No_dependants\n",
       "2                Time_in_address\n",
       "3            Time_in_current_job\n",
       "4                   Credit_cards\n",
       "..                           ...\n",
       "107   Avg_inc_transactions_H0_H6\n",
       "108  Avg_inc_transactions_H0_H12\n",
       "109   Avg_out_transactions_H0_H3\n",
       "110   Avg_out_transactions_H0_H6\n",
       "111  Avg_out_transactions_H0_H12\n",
       "\n",
       "[112 rows x 1 columns]"
      ]
     },
     "execution_count": 90,
     "metadata": {},
     "output_type": "execute_result"
    }
   ],
   "source": [
    "columns = df.columns\n",
    "columns = pd.DataFrame(columns)\n",
    "columns"
   ]
  },
  {
   "cell_type": "code",
   "execution_count": 91,
   "metadata": {},
   "outputs": [
    {
     "data": {
      "text/plain": [
       "Overdue_to_Income_Ratio_H0             1\n",
       "Financial_stability_index_H0        1533\n",
       "Overdue_to_Income_Ratio_H0_H3          1\n",
       "Overdue_to_Income_Ratio_H0_H6          1\n",
       "Overdue_to_Income_Ratio_H0_H12         1\n",
       "Financial_stability_index_H0_H3     3090\n",
       "Financial_stability_index_H0_H6     3061\n",
       "Financial_stability_index_H0_H12    3064\n",
       "dtype: int64"
      ]
     },
     "execution_count": 91,
     "metadata": {},
     "output_type": "execute_result"
    }
   ],
   "source": [
    "nulls = df.isna().sum()\n",
    "nulls[nulls > 0]"
   ]
  },
  {
   "cell_type": "code",
   "execution_count": 92,
   "metadata": {},
   "outputs": [],
   "source": [
    "# drop all NaN values\n",
    "df = df.dropna()"
   ]
  },
  {
   "cell_type": "code",
   "execution_count": 93,
   "metadata": {},
   "outputs": [],
   "source": [
    "df.to_csv('../data/output/fe/in_time_fe.csv')"
   ]
  },
  {
   "cell_type": "markdown",
   "metadata": {},
   "source": [
    "## DF test"
   ]
  },
  {
   "cell_type": "code",
   "execution_count": 94,
   "metadata": {},
   "outputs": [],
   "source": [
    "df = pd.read_csv('../data/output/out_of_time_cleaned.csv')"
   ]
  },
  {
   "cell_type": "code",
   "execution_count": 95,
   "metadata": {},
   "outputs": [
    {
     "name": "stderr",
     "output_type": "stream",
     "text": [
      "/Users/kacpergruca/Documents/Projekty/ING_Lions_Den_2024_final/RiskBusters_Codes/feature_engeneering.py:30: UserWarning: Parsing dates in DD/MM/YYYY format when dayfirst=False (the default) was specified. This may lead to inconsistently parsed dates! Specify a format to ensure consistent parsing.\n",
      "  df['Birth_date'] = pd.to_datetime(df['Birth_date'])\n",
      "/Users/kacpergruca/Documents/Projekty/ING_Lions_Den_2024_final/RiskBusters_Codes/feature_engeneering.py:276: PerformanceWarning: DataFrame is highly fragmented.  This is usually the result of calling `frame.insert` many times, which has poor performance.  Consider joining all columns at once using pd.concat(axis=1) instead. To get a de-fragmented frame, use `newframe = frame.copy()`\n",
      "  df[new_column_name] = (df[column + first_column_sufix] - df[column + second_column_sufix])\n",
      "/Users/kacpergruca/Documents/Projekty/ING_Lions_Den_2024_final/RiskBusters_Codes/feature_engeneering.py:276: PerformanceWarning: DataFrame is highly fragmented.  This is usually the result of calling `frame.insert` many times, which has poor performance.  Consider joining all columns at once using pd.concat(axis=1) instead. To get a de-fragmented frame, use `newframe = frame.copy()`\n",
      "  df[new_column_name] = (df[column + first_column_sufix] - df[column + second_column_sufix])\n",
      "/Users/kacpergruca/Documents/Projekty/ING_Lions_Den_2024_final/RiskBusters_Codes/feature_engeneering.py:276: PerformanceWarning: DataFrame is highly fragmented.  This is usually the result of calling `frame.insert` many times, which has poor performance.  Consider joining all columns at once using pd.concat(axis=1) instead. To get a de-fragmented frame, use `newframe = frame.copy()`\n",
      "  df[new_column_name] = (df[column + first_column_sufix] - df[column + second_column_sufix])\n",
      "/Users/kacpergruca/Documents/Projekty/ING_Lions_Den_2024_final/RiskBusters_Codes/feature_engeneering.py:276: PerformanceWarning: DataFrame is highly fragmented.  This is usually the result of calling `frame.insert` many times, which has poor performance.  Consider joining all columns at once using pd.concat(axis=1) instead. To get a de-fragmented frame, use `newframe = frame.copy()`\n",
      "  df[new_column_name] = (df[column + first_column_sufix] - df[column + second_column_sufix])\n",
      "/Users/kacpergruca/Documents/Projekty/ING_Lions_Den_2024_final/RiskBusters_Codes/feature_engeneering.py:276: PerformanceWarning: DataFrame is highly fragmented.  This is usually the result of calling `frame.insert` many times, which has poor performance.  Consider joining all columns at once using pd.concat(axis=1) instead. To get a de-fragmented frame, use `newframe = frame.copy()`\n",
      "  df[new_column_name] = (df[column + first_column_sufix] - df[column + second_column_sufix])\n",
      "/Users/kacpergruca/Documents/Projekty/ING_Lions_Den_2024_final/RiskBusters_Codes/feature_engeneering.py:276: PerformanceWarning: DataFrame is highly fragmented.  This is usually the result of calling `frame.insert` many times, which has poor performance.  Consider joining all columns at once using pd.concat(axis=1) instead. To get a de-fragmented frame, use `newframe = frame.copy()`\n",
      "  df[new_column_name] = (df[column + first_column_sufix] - df[column + second_column_sufix])\n",
      "/Users/kacpergruca/Documents/Projekty/ING_Lions_Den_2024_final/RiskBusters_Codes/feature_engeneering.py:276: PerformanceWarning: DataFrame is highly fragmented.  This is usually the result of calling `frame.insert` many times, which has poor performance.  Consider joining all columns at once using pd.concat(axis=1) instead. To get a de-fragmented frame, use `newframe = frame.copy()`\n",
      "  df[new_column_name] = (df[column + first_column_sufix] - df[column + second_column_sufix])\n",
      "/Users/kacpergruca/Documents/Projekty/ING_Lions_Den_2024_final/RiskBusters_Codes/feature_engeneering.py:276: PerformanceWarning: DataFrame is highly fragmented.  This is usually the result of calling `frame.insert` many times, which has poor performance.  Consider joining all columns at once using pd.concat(axis=1) instead. To get a de-fragmented frame, use `newframe = frame.copy()`\n",
      "  df[new_column_name] = (df[column + first_column_sufix] - df[column + second_column_sufix])\n",
      "/Users/kacpergruca/Documents/Projekty/ING_Lions_Den_2024_final/RiskBusters_Codes/feature_engeneering.py:276: PerformanceWarning: DataFrame is highly fragmented.  This is usually the result of calling `frame.insert` many times, which has poor performance.  Consider joining all columns at once using pd.concat(axis=1) instead. To get a de-fragmented frame, use `newframe = frame.copy()`\n",
      "  df[new_column_name] = (df[column + first_column_sufix] - df[column + second_column_sufix])\n",
      "/Users/kacpergruca/Documents/Projekty/ING_Lions_Den_2024_final/RiskBusters_Codes/feature_engeneering.py:276: PerformanceWarning: DataFrame is highly fragmented.  This is usually the result of calling `frame.insert` many times, which has poor performance.  Consider joining all columns at once using pd.concat(axis=1) instead. To get a de-fragmented frame, use `newframe = frame.copy()`\n",
      "  df[new_column_name] = (df[column + first_column_sufix] - df[column + second_column_sufix])\n",
      "/Users/kacpergruca/Documents/Projekty/ING_Lions_Den_2024_final/RiskBusters_Codes/feature_engeneering.py:276: PerformanceWarning: DataFrame is highly fragmented.  This is usually the result of calling `frame.insert` many times, which has poor performance.  Consider joining all columns at once using pd.concat(axis=1) instead. To get a de-fragmented frame, use `newframe = frame.copy()`\n",
      "  df[new_column_name] = (df[column + first_column_sufix] - df[column + second_column_sufix])\n",
      "/Users/kacpergruca/Documents/Projekty/ING_Lions_Den_2024_final/RiskBusters_Codes/feature_engeneering.py:276: PerformanceWarning: DataFrame is highly fragmented.  This is usually the result of calling `frame.insert` many times, which has poor performance.  Consider joining all columns at once using pd.concat(axis=1) instead. To get a de-fragmented frame, use `newframe = frame.copy()`\n",
      "  df[new_column_name] = (df[column + first_column_sufix] - df[column + second_column_sufix])\n",
      "/Users/kacpergruca/Documents/Projekty/ING_Lions_Den_2024_final/RiskBusters_Codes/feature_engeneering.py:276: PerformanceWarning: DataFrame is highly fragmented.  This is usually the result of calling `frame.insert` many times, which has poor performance.  Consider joining all columns at once using pd.concat(axis=1) instead. To get a de-fragmented frame, use `newframe = frame.copy()`\n",
      "  df[new_column_name] = (df[column + first_column_sufix] - df[column + second_column_sufix])\n",
      "/Users/kacpergruca/Documents/Projekty/ING_Lions_Den_2024_final/RiskBusters_Codes/feature_engeneering.py:276: PerformanceWarning: DataFrame is highly fragmented.  This is usually the result of calling `frame.insert` many times, which has poor performance.  Consider joining all columns at once using pd.concat(axis=1) instead. To get a de-fragmented frame, use `newframe = frame.copy()`\n",
      "  df[new_column_name] = (df[column + first_column_sufix] - df[column + second_column_sufix])\n",
      "/Users/kacpergruca/Documents/Projekty/ING_Lions_Den_2024_final/RiskBusters_Codes/feature_engeneering.py:276: PerformanceWarning: DataFrame is highly fragmented.  This is usually the result of calling `frame.insert` many times, which has poor performance.  Consider joining all columns at once using pd.concat(axis=1) instead. To get a de-fragmented frame, use `newframe = frame.copy()`\n",
      "  df[new_column_name] = (df[column + first_column_sufix] - df[column + second_column_sufix])\n",
      "/Users/kacpergruca/Documents/Projekty/ING_Lions_Den_2024_final/RiskBusters_Codes/feature_engeneering.py:276: PerformanceWarning: DataFrame is highly fragmented.  This is usually the result of calling `frame.insert` many times, which has poor performance.  Consider joining all columns at once using pd.concat(axis=1) instead. To get a de-fragmented frame, use `newframe = frame.copy()`\n",
      "  df[new_column_name] = (df[column + first_column_sufix] - df[column + second_column_sufix])\n",
      "/Users/kacpergruca/Documents/Projekty/ING_Lions_Den_2024_final/RiskBusters_Codes/feature_engeneering.py:276: PerformanceWarning: DataFrame is highly fragmented.  This is usually the result of calling `frame.insert` many times, which has poor performance.  Consider joining all columns at once using pd.concat(axis=1) instead. To get a de-fragmented frame, use `newframe = frame.copy()`\n",
      "  df[new_column_name] = (df[column + first_column_sufix] - df[column + second_column_sufix])\n"
     ]
    }
   ],
   "source": [
    "df = modify_df(df)\n",
    "df = drop_columns(df, columns_to_delete_H, columns_to_delete)\n",
    "df = create_differences_columns(df, columns_H)"
   ]
  },
  {
   "cell_type": "code",
   "execution_count": 96,
   "metadata": {},
   "outputs": [],
   "source": [
    "df = drop_columns_after_transformation(df, columns_H)"
   ]
  },
  {
   "cell_type": "code",
   "execution_count": 97,
   "metadata": {},
   "outputs": [],
   "source": [
    "# drop all NaN values\n",
    "df = df.dropna()"
   ]
  },
  {
   "cell_type": "code",
   "execution_count": 98,
   "metadata": {},
   "outputs": [],
   "source": [
    "df.to_csv('../data/output/fe/out_of_time_fe.csv')"
   ]
  }
 ],
 "metadata": {
  "kernelspec": {
   "display_name": "Python 3",
   "language": "python",
   "name": "python3"
  },
  "language_info": {
   "codemirror_mode": {
    "name": "ipython",
    "version": 3
   },
   "file_extension": ".py",
   "mimetype": "text/x-python",
   "name": "python",
   "nbconvert_exporter": "python",
   "pygments_lexer": "ipython3",
   "version": "3.11.2"
  }
 },
 "nbformat": 4,
 "nbformat_minor": 2
}
