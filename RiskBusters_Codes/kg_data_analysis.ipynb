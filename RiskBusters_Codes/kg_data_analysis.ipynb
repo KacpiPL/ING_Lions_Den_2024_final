{
 "cells": [
  {
   "cell_type": "markdown",
   "metadata": {},
   "source": [
    "## Data analysis"
   ]
  },
  {
   "cell_type": "code",
   "execution_count": 12,
   "metadata": {},
   "outputs": [],
   "source": [
    "import pandas as pd\n",
    "import matplotlib.pyplot as plt"
   ]
  },
  {
   "cell_type": "code",
   "execution_count": 3,
   "metadata": {},
   "outputs": [],
   "source": [
    "df = pd.read_csv('../data/output/in_time_cleaned.csv')"
   ]
  },
  {
   "cell_type": "markdown",
   "metadata": {},
   "source": [
    "## Defaults for H0\n",
    "\n",
    "Check if we have any defaults for H0 perdiod, we theoretically should not train the model on these clients. \n",
    "\n",
    "As ee can observe below we do not have such observations in our training dataframe."
   ]
  },
  {
   "cell_type": "code",
   "execution_count": 5,
   "metadata": {},
   "outputs": [
    {
     "name": "stdout",
     "output_type": "stream",
     "text": [
      "0\n"
     ]
    }
   ],
   "source": [
    "# check how many defaults are for ref_month = 0\n",
    "print(df[df['Ref_month'] == 0].shape[0])"
   ]
  },
  {
   "cell_type": "markdown",
   "metadata": {},
   "source": [
    "## Check the valuable distribution of every product"
   ]
  },
  {
   "cell_type": "code",
   "execution_count": 10,
   "metadata": {},
   "outputs": [
    {
     "data": {
      "text/plain": [
       "{'os_term_loan_sum': 66423007782.79999,\n",
       " 'os_credit_card_sum': 35324203.3,\n",
       " 'os_mortgage_sum': 226448648093.19}"
      ]
     },
     "execution_count": 10,
     "metadata": {},
     "output_type": "execute_result"
    }
   ],
   "source": [
    "# sum all column containing Os_term_loan_ in the name in the whole df\n",
    "os_term_loan_sum = df.filter(like='Os_term_loan_', axis=1).sum().sum()\n",
    "os_credit_card_sum = df.filter(like='Os_credit_card_', axis=1).sum().sum()\n",
    "os_mortgage_sum = df.filter(like='Os_mortgage_', axis=1).sum().sum()\n",
    "\n",
    "# create a dictionary with the sums\n",
    "sums = {'os_term_loan_sum': os_term_loan_sum, 'os_credit_card_sum': os_credit_card_sum, 'os_mortgage_sum': os_mortgage_sum}\n",
    "sums"
   ]
  },
  {
   "cell_type": "markdown",
   "metadata": {},
   "source": [
    "In terms of value, mortgages constitute the largest percentage of the portfolio"
   ]
  },
  {
   "cell_type": "code",
   "execution_count": 13,
   "metadata": {},
   "outputs": [
    {
     "data": {
      "image/png": "[encoded data removed]",
      "text/plain": [
       "<Figure size 640x480 with 1 Axes>"
      ]
     },
     "metadata": {},
     "output_type": "display_data"
    }
   ],
   "source": [
    "# create bar chart with values from sums\n",
    "plt.bar(sums.keys(), sums.values())\n",
    "plt.show()"
   ]
  },
  {
   "cell_type": "code",
   "execution_count": 14,
   "metadata": {},
   "outputs": [
    {
     "data": {
      "text/plain": [
       "{'os_term_loan_sum': 0.22677167940763743,\n",
       " 'os_credit_card_sum': 0.00012059870778920232,\n",
       " 'os_mortgage_sum': 0.7731077218845734}"
      ]
     },
     "execution_count": 14,
     "metadata": {},
     "output_type": "execute_result"
    }
   ],
   "source": [
    "# calculate the percentage of overy value in sums compared to the total sum\n",
    "total_sum = os_term_loan_sum + os_credit_card_sum + os_mortgage_sum\n",
    "percentages = {k: v/total_sum for k, v in sums.items()}\n",
    "percentages"
   ]
  }
 ],
 "metadata": {
  "kernelspec": {
   "display_name": "Python 3",
   "language": "python",
   "name": "python3"
  },
  "language_info": {
   "codemirror_mode": {
    "name": "ipython",
    "version": 3
   },
   "file_extension": ".py",
   "mimetype": "text/x-python",
   "name": "python",
   "nbconvert_exporter": "python",
   "pygments_lexer": "ipython3",
   "version": "3.11.2"
  }
 },
 "nbformat": 4,
 "nbformat_minor": 2
}
