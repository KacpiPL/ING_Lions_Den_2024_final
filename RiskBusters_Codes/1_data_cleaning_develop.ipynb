{
 "cells": [
  {
   "cell_type": "code",
   "execution_count": null,
   "metadata": {},
   "outputs": [],
   "source": [
    "import pandas as pd"
   ]
  },
  {
   "cell_type": "code",
   "execution_count": 2,
   "metadata": {},
   "outputs": [],
   "source": [
    "df = pd.read_csv('../data/input/in_time.csv')"
   ]
  },
  {
   "cell_type": "markdown",
   "metadata": {},
   "source": [
    "## Data cleaning - train\n",
    "\n",
    "We clean the traing dataset and in parallel develop a function clean_df due to the high size of the file so that every team member can clean the data independently without uploading the whole cleeaning dataframe."
   ]
  },
  {
   "cell_type": "code",
   "execution_count": 3,
   "metadata": {},
   "outputs": [
    {
     "data": {
      "text/html": [
       "<div>\n",
       "<style scoped>\n",
       "    .dataframe tbody tr th:only-of-type {\n",
       "        vertical-align: middle;\n",
       "    }\n",
       "\n",
       "    .dataframe tbody tr th {\n",
       "        vertical-align: top;\n",
       "    }\n",
       "\n",
       "    .dataframe thead th {\n",
       "        text-align: right;\n",
       "    }\n",
       "</style>\n",
       "<table border=\"1\" class=\"dataframe\">\n",
       "  <thead>\n",
       "    <tr style=\"text-align: right;\">\n",
       "      <th></th>\n",
       "      <th>Ref_month</th>\n",
       "      <th>Customer_id</th>\n",
       "      <th>Birth_date</th>\n",
       "      <th>No_dependants</th>\n",
       "      <th>Time_in_address</th>\n",
       "      <th>Time_in_current_job</th>\n",
       "      <th>Credit_cards</th>\n",
       "      <th>Debit_cards</th>\n",
       "      <th>Active_accounts</th>\n",
       "      <th>Oldest_account_date</th>\n",
       "      <th>...</th>\n",
       "      <th>out_transactions_amt_H8</th>\n",
       "      <th>out_transactions_amt_H7</th>\n",
       "      <th>out_transactions_amt_H6</th>\n",
       "      <th>out_transactions_amt_H5</th>\n",
       "      <th>out_transactions_amt_H4</th>\n",
       "      <th>out_transactions_amt_H3</th>\n",
       "      <th>out_transactions_amt_H2</th>\n",
       "      <th>out_transactions_amt_H1</th>\n",
       "      <th>out_transactions_amt_H0</th>\n",
       "      <th>Target</th>\n",
       "    </tr>\n",
       "  </thead>\n",
       "  <tbody>\n",
       "    <tr>\n",
       "      <th>0</th>\n",
       "      <td>11-2022</td>\n",
       "      <td>33344475</td>\n",
       "      <td>21-05-1988</td>\n",
       "      <td>0</td>\n",
       "      <td>3.41</td>\n",
       "      <td>4.13</td>\n",
       "      <td>0</td>\n",
       "      <td>2</td>\n",
       "      <td>2</td>\n",
       "      <td>26-06-2008</td>\n",
       "      <td>...</td>\n",
       "      <td>4576.57</td>\n",
       "      <td>3981.55</td>\n",
       "      <td>4607.80</td>\n",
       "      <td>4182.93</td>\n",
       "      <td>3831.11</td>\n",
       "      <td>4210.16</td>\n",
       "      <td>3832.29</td>\n",
       "      <td>4727.64</td>\n",
       "      <td>4022.14</td>\n",
       "      <td>0</td>\n",
       "    </tr>\n",
       "    <tr>\n",
       "      <th>1</th>\n",
       "      <td>07-2022</td>\n",
       "      <td>38290809</td>\n",
       "      <td>07-07-1983</td>\n",
       "      <td>1</td>\n",
       "      <td>2.28</td>\n",
       "      <td>11.00</td>\n",
       "      <td>0</td>\n",
       "      <td>1</td>\n",
       "      <td>1</td>\n",
       "      <td>16-05-2015</td>\n",
       "      <td>...</td>\n",
       "      <td>3472.92</td>\n",
       "      <td>3559.04</td>\n",
       "      <td>3564.92</td>\n",
       "      <td>3614.82</td>\n",
       "      <td>3602.57</td>\n",
       "      <td>3552.99</td>\n",
       "      <td>3584.06</td>\n",
       "      <td>3512.58</td>\n",
       "      <td>3624.90</td>\n",
       "      <td>0</td>\n",
       "    </tr>\n",
       "    <tr>\n",
       "      <th>2</th>\n",
       "      <td>01-2022</td>\n",
       "      <td>33178125</td>\n",
       "      <td>16-09-1982</td>\n",
       "      <td>1</td>\n",
       "      <td>8.99</td>\n",
       "      <td>1.73</td>\n",
       "      <td>1</td>\n",
       "      <td>2</td>\n",
       "      <td>1</td>\n",
       "      <td>11-02-2005</td>\n",
       "      <td>...</td>\n",
       "      <td>14188.19</td>\n",
       "      <td>12669.79</td>\n",
       "      <td>13334.48</td>\n",
       "      <td>12731.75</td>\n",
       "      <td>12651.15</td>\n",
       "      <td>12282.69</td>\n",
       "      <td>12287.79</td>\n",
       "      <td>12827.02</td>\n",
       "      <td>12984.93</td>\n",
       "      <td>0</td>\n",
       "    </tr>\n",
       "    <tr>\n",
       "      <th>3</th>\n",
       "      <td>12-2022</td>\n",
       "      <td>37129367</td>\n",
       "      <td>13-05-1985</td>\n",
       "      <td>2</td>\n",
       "      <td>5.55</td>\n",
       "      <td>1.76</td>\n",
       "      <td>0</td>\n",
       "      <td>1</td>\n",
       "      <td>1</td>\n",
       "      <td>27-01-2006</td>\n",
       "      <td>...</td>\n",
       "      <td>4286.46</td>\n",
       "      <td>3914.78</td>\n",
       "      <td>4005.07</td>\n",
       "      <td>4094.73</td>\n",
       "      <td>3926.17</td>\n",
       "      <td>4433.92</td>\n",
       "      <td>3964.59</td>\n",
       "      <td>4014.69</td>\n",
       "      <td>4331.89</td>\n",
       "      <td>0</td>\n",
       "    </tr>\n",
       "    <tr>\n",
       "      <th>4</th>\n",
       "      <td>06-2022</td>\n",
       "      <td>31904710</td>\n",
       "      <td>26-03-1989</td>\n",
       "      <td>1</td>\n",
       "      <td>4.48</td>\n",
       "      <td>8.43</td>\n",
       "      <td>1</td>\n",
       "      <td>1</td>\n",
       "      <td>1</td>\n",
       "      <td>28-06-2008</td>\n",
       "      <td>...</td>\n",
       "      <td>4421.30</td>\n",
       "      <td>4666.98</td>\n",
       "      <td>5053.99</td>\n",
       "      <td>4816.87</td>\n",
       "      <td>4314.71</td>\n",
       "      <td>4711.88</td>\n",
       "      <td>5014.49</td>\n",
       "      <td>4152.09</td>\n",
       "      <td>5288.72</td>\n",
       "      <td>0</td>\n",
       "    </tr>\n",
       "    <tr>\n",
       "      <th>...</th>\n",
       "      <td>...</td>\n",
       "      <td>...</td>\n",
       "      <td>...</td>\n",
       "      <td>...</td>\n",
       "      <td>...</td>\n",
       "      <td>...</td>\n",
       "      <td>...</td>\n",
       "      <td>...</td>\n",
       "      <td>...</td>\n",
       "      <td>...</td>\n",
       "      <td>...</td>\n",
       "      <td>...</td>\n",
       "      <td>...</td>\n",
       "      <td>...</td>\n",
       "      <td>...</td>\n",
       "      <td>...</td>\n",
       "      <td>...</td>\n",
       "      <td>...</td>\n",
       "      <td>...</td>\n",
       "      <td>...</td>\n",
       "      <td>...</td>\n",
       "    </tr>\n",
       "    <tr>\n",
       "      <th>309995</th>\n",
       "      <td>03-2022</td>\n",
       "      <td>31104928</td>\n",
       "      <td>13-09-1989</td>\n",
       "      <td>1</td>\n",
       "      <td>1.92</td>\n",
       "      <td>0.63</td>\n",
       "      <td>0</td>\n",
       "      <td>1</td>\n",
       "      <td>1</td>\n",
       "      <td>22-02-2010</td>\n",
       "      <td>...</td>\n",
       "      <td>4545.08</td>\n",
       "      <td>4398.42</td>\n",
       "      <td>4115.42</td>\n",
       "      <td>4334.34</td>\n",
       "      <td>4113.10</td>\n",
       "      <td>4423.33</td>\n",
       "      <td>4726.98</td>\n",
       "      <td>4200.09</td>\n",
       "      <td>4099.52</td>\n",
       "      <td>0</td>\n",
       "    </tr>\n",
       "    <tr>\n",
       "      <th>309996</th>\n",
       "      <td>10-2022</td>\n",
       "      <td>38699158</td>\n",
       "      <td>09-10-1973</td>\n",
       "      <td>1</td>\n",
       "      <td>19.89</td>\n",
       "      <td>3.03</td>\n",
       "      <td>0</td>\n",
       "      <td>1</td>\n",
       "      <td>2</td>\n",
       "      <td>30-04-2007</td>\n",
       "      <td>...</td>\n",
       "      <td>4316.77</td>\n",
       "      <td>4325.59</td>\n",
       "      <td>4299.23</td>\n",
       "      <td>3834.01</td>\n",
       "      <td>3677.22</td>\n",
       "      <td>3835.20</td>\n",
       "      <td>4658.65</td>\n",
       "      <td>3992.09</td>\n",
       "      <td>4061.19</td>\n",
       "      <td>0</td>\n",
       "    </tr>\n",
       "    <tr>\n",
       "      <th>309997</th>\n",
       "      <td>05-2022</td>\n",
       "      <td>37435274</td>\n",
       "      <td>12-09-1986</td>\n",
       "      <td>3</td>\n",
       "      <td>3.92</td>\n",
       "      <td>3.90</td>\n",
       "      <td>0</td>\n",
       "      <td>2</td>\n",
       "      <td>1</td>\n",
       "      <td>23-08-2015</td>\n",
       "      <td>...</td>\n",
       "      <td>4640.76</td>\n",
       "      <td>5325.48</td>\n",
       "      <td>4832.33</td>\n",
       "      <td>5319.56</td>\n",
       "      <td>5117.83</td>\n",
       "      <td>4823.07</td>\n",
       "      <td>5510.92</td>\n",
       "      <td>5145.15</td>\n",
       "      <td>4537.41</td>\n",
       "      <td>0</td>\n",
       "    </tr>\n",
       "    <tr>\n",
       "      <th>309998</th>\n",
       "      <td>07-2022</td>\n",
       "      <td>36145194</td>\n",
       "      <td>11-07-1972</td>\n",
       "      <td>1</td>\n",
       "      <td>18.38</td>\n",
       "      <td>14.47</td>\n",
       "      <td>0</td>\n",
       "      <td>1</td>\n",
       "      <td>1</td>\n",
       "      <td>28-09-2004</td>\n",
       "      <td>...</td>\n",
       "      <td>4469.91</td>\n",
       "      <td>4319.86</td>\n",
       "      <td>4890.04</td>\n",
       "      <td>4619.89</td>\n",
       "      <td>5206.99</td>\n",
       "      <td>4425.69</td>\n",
       "      <td>4695.32</td>\n",
       "      <td>4632.36</td>\n",
       "      <td>4729.46</td>\n",
       "      <td>0</td>\n",
       "    </tr>\n",
       "    <tr>\n",
       "      <th>309999</th>\n",
       "      <td>11-2022</td>\n",
       "      <td>37156247</td>\n",
       "      <td>08-04-1990</td>\n",
       "      <td>1</td>\n",
       "      <td>8.04</td>\n",
       "      <td>0.60</td>\n",
       "      <td>0</td>\n",
       "      <td>1</td>\n",
       "      <td>1</td>\n",
       "      <td>19-01-2011</td>\n",
       "      <td>...</td>\n",
       "      <td>3645.49</td>\n",
       "      <td>3864.10</td>\n",
       "      <td>4222.49</td>\n",
       "      <td>3535.97</td>\n",
       "      <td>3598.82</td>\n",
       "      <td>3874.99</td>\n",
       "      <td>3738.57</td>\n",
       "      <td>3569.16</td>\n",
       "      <td>3713.22</td>\n",
       "      <td>0</td>\n",
       "    </tr>\n",
       "  </tbody>\n",
       "</table>\n",
       "<p>310000 rows × 307 columns</p>\n",
       "</div>"
      ],
      "text/plain": [
       "       Ref_month  Customer_id  Birth_date  No_dependants  Time_in_address  \\\n",
       "0        11-2022     33344475  21-05-1988              0             3.41   \n",
       "1        07-2022     38290809  07-07-1983              1             2.28   \n",
       "2        01-2022     33178125  16-09-1982              1             8.99   \n",
       "3        12-2022     37129367  13-05-1985              2             5.55   \n",
       "4        06-2022     31904710  26-03-1989              1             4.48   \n",
       "...          ...          ...         ...            ...              ...   \n",
       "309995   03-2022     31104928  13-09-1989              1             1.92   \n",
       "309996   10-2022     38699158  09-10-1973              1            19.89   \n",
       "309997   05-2022     37435274  12-09-1986              3             3.92   \n",
       "309998   07-2022     36145194  11-07-1972              1            18.38   \n",
       "309999   11-2022     37156247  08-04-1990              1             8.04   \n",
       "\n",
       "        Time_in_current_job  Credit_cards  Debit_cards  Active_accounts  \\\n",
       "0                      4.13             0            2                2   \n",
       "1                     11.00             0            1                1   \n",
       "2                      1.73             1            2                1   \n",
       "3                      1.76             0            1                1   \n",
       "4                      8.43             1            1                1   \n",
       "...                     ...           ...          ...              ...   \n",
       "309995                 0.63             0            1                1   \n",
       "309996                 3.03             0            1                2   \n",
       "309997                 3.90             0            2                1   \n",
       "309998                14.47             0            1                1   \n",
       "309999                 0.60             0            1                1   \n",
       "\n",
       "       Oldest_account_date  ...  out_transactions_amt_H8  \\\n",
       "0               26-06-2008  ...                  4576.57   \n",
       "1               16-05-2015  ...                  3472.92   \n",
       "2               11-02-2005  ...                 14188.19   \n",
       "3               27-01-2006  ...                  4286.46   \n",
       "4               28-06-2008  ...                  4421.30   \n",
       "...                    ...  ...                      ...   \n",
       "309995          22-02-2010  ...                  4545.08   \n",
       "309996          30-04-2007  ...                  4316.77   \n",
       "309997          23-08-2015  ...                  4640.76   \n",
       "309998          28-09-2004  ...                  4469.91   \n",
       "309999          19-01-2011  ...                  3645.49   \n",
       "\n",
       "        out_transactions_amt_H7  out_transactions_amt_H6  \\\n",
       "0                       3981.55                  4607.80   \n",
       "1                       3559.04                  3564.92   \n",
       "2                      12669.79                 13334.48   \n",
       "3                       3914.78                  4005.07   \n",
       "4                       4666.98                  5053.99   \n",
       "...                         ...                      ...   \n",
       "309995                  4398.42                  4115.42   \n",
       "309996                  4325.59                  4299.23   \n",
       "309997                  5325.48                  4832.33   \n",
       "309998                  4319.86                  4890.04   \n",
       "309999                  3864.10                  4222.49   \n",
       "\n",
       "       out_transactions_amt_H5 out_transactions_amt_H4  \\\n",
       "0                      4182.93                 3831.11   \n",
       "1                      3614.82                 3602.57   \n",
       "2                     12731.75                12651.15   \n",
       "3                      4094.73                 3926.17   \n",
       "4                      4816.87                 4314.71   \n",
       "...                        ...                     ...   \n",
       "309995                 4334.34                 4113.10   \n",
       "309996                 3834.01                 3677.22   \n",
       "309997                 5319.56                 5117.83   \n",
       "309998                 4619.89                 5206.99   \n",
       "309999                 3535.97                 3598.82   \n",
       "\n",
       "        out_transactions_amt_H3  out_transactions_amt_H2  \\\n",
       "0                       4210.16                  3832.29   \n",
       "1                       3552.99                  3584.06   \n",
       "2                      12282.69                 12287.79   \n",
       "3                       4433.92                  3964.59   \n",
       "4                       4711.88                  5014.49   \n",
       "...                         ...                      ...   \n",
       "309995                  4423.33                  4726.98   \n",
       "309996                  3835.20                  4658.65   \n",
       "309997                  4823.07                  5510.92   \n",
       "309998                  4425.69                  4695.32   \n",
       "309999                  3874.99                  3738.57   \n",
       "\n",
       "        out_transactions_amt_H1  out_transactions_amt_H0  Target  \n",
       "0                       4727.64                  4022.14       0  \n",
       "1                       3512.58                  3624.90       0  \n",
       "2                      12827.02                 12984.93       0  \n",
       "3                       4014.69                  4331.89       0  \n",
       "4                       4152.09                  5288.72       0  \n",
       "...                         ...                      ...     ...  \n",
       "309995                  4200.09                  4099.52       0  \n",
       "309996                  3992.09                  4061.19       0  \n",
       "309997                  5145.15                  4537.41       0  \n",
       "309998                  4632.36                  4729.46       0  \n",
       "309999                  3569.16                  3713.22       0  \n",
       "\n",
       "[310000 rows x 307 columns]"
      ]
     },
     "execution_count": 3,
     "metadata": {},
     "output_type": "execute_result"
    }
   ],
   "source": [
    "df"
   ]
  },
  {
   "cell_type": "code",
   "execution_count": 4,
   "metadata": {},
   "outputs": [
    {
     "data": {
      "text/plain": [
       "Series([], dtype: int64)"
      ]
     },
     "execution_count": 4,
     "metadata": {},
     "output_type": "execute_result"
    }
   ],
   "source": [
    "df_sum = df.isna().sum()\n",
    "df_sum[df_sum > 0]"
   ]
  },
  {
   "cell_type": "markdown",
   "metadata": {},
   "source": [
    "We do not observe any NAs, but we observe that NAs are shown as -9999"
   ]
  },
  {
   "cell_type": "code",
   "execution_count": 5,
   "metadata": {},
   "outputs": [
    {
     "name": "stderr",
     "output_type": "stream",
     "text": [
      "/var/folders/rh/w6cl6rd95vj2g4s03scz_4fc0000gn/T/ipykernel_16033/3091666597.py:2: FutureWarning: The pandas.np module is deprecated and will be removed from pandas in a future version. Import numpy directly instead.\n",
      "  df = df.replace(-9999, pd.np.nan)\n"
     ]
    }
   ],
   "source": [
    "# change all -9999 to NaN\n",
    "df = df.replace(-9999, pd.np.nan)"
   ]
  },
  {
   "cell_type": "code",
   "execution_count": 7,
   "metadata": {},
   "outputs": [
    {
     "data": {
      "text/plain": [
       "Active_mortgages                         254239\n",
       "Active_credit_card_lines                 273097\n",
       "External_term_loan_balance               309855\n",
       "External_mortgage_balance                309855\n",
       "External_credit_card_balance             309855\n",
       "limit_in_revolving_loans_H12              61090\n",
       "limit_in_revolving_loans_H11              61090\n",
       "limit_in_revolving_loans_H10              61090\n",
       "limit_in_revolving_loans_H9               61090\n",
       "limit_in_revolving_loans_H8               61090\n",
       "limit_in_revolving_loans_H7               61090\n",
       "limit_in_revolving_loans_H6               61090\n",
       "limit_in_revolving_loans_H5               61090\n",
       "limit_in_revolving_loans_H4               61090\n",
       "limit_in_revolving_loans_H3               61090\n",
       "limit_in_revolving_loans_H2               61090\n",
       "limit_in_revolving_loans_H1               61090\n",
       "limit_in_revolving_loans_H0               61090\n",
       "utilized_limit_in_revolving_loans_H12     61090\n",
       "utilized_limit_in_revolving_loans_H11     61090\n",
       "utilized_limit_in_revolving_loans_H10     61090\n",
       "utilized_limit_in_revolving_loans_H9      61090\n",
       "utilized_limit_in_revolving_loans_H8      61090\n",
       "utilized_limit_in_revolving_loans_H7      61090\n",
       "utilized_limit_in_revolving_loans_H6      61090\n",
       "utilized_limit_in_revolving_loans_H5      61090\n",
       "utilized_limit_in_revolving_loans_H4      61090\n",
       "utilized_limit_in_revolving_loans_H3      61090\n",
       "utilized_limit_in_revolving_loans_H2      61090\n",
       "utilized_limit_in_revolving_loans_H1      61090\n",
       "utilized_limit_in_revolving_loans_H0      61090\n",
       "dtype: int64"
      ]
     },
     "execution_count": 7,
     "metadata": {},
     "output_type": "execute_result"
    }
   ],
   "source": [
    "# show values and columns where number of NANs is greater than 0 \n",
    "df_sum1 = df.isnull().sum()\n",
    "df_sum1[df_sum1 > 0]"
   ]
  },
  {
   "cell_type": "markdown",
   "metadata": {},
   "source": [
    "## Handle NAs"
   ]
  },
  {
   "cell_type": "code",
   "execution_count": 11,
   "metadata": {},
   "outputs": [],
   "source": [
    "# change NAs in Active_mortgages to 0\n",
    "df['Active_mortgages'] = df['Active_mortgages'].fillna(0)"
   ]
  },
  {
   "cell_type": "code",
   "execution_count": 15,
   "metadata": {},
   "outputs": [],
   "source": [
    "# change NAs in selected columns to 0\n",
    "columns_to_fill_with_0 = ['Active_mortgages', \n",
    "                          'Active_credit_card_lines', \n",
    "                          'External_term_loan_balance',\n",
    "                          'External_mortgage_balance',\n",
    "                          'External_credit_card_balance']\n",
    "\n",
    "for column in columns_to_fill_with_0:\n",
    "    df[column] = df[column].fillna(0)\n",
    "\n",
    "# change NAs in all columns which contains selected names in column name to 0\n",
    "columns_to_fill_with_0 = ['limit_in_revolving_loans_', 'utilized_limit_in_revolving_loans_']\n",
    "\n",
    "for column in df.columns:\n",
    "    for name in columns_to_fill_with_0:\n",
    "        if name in column:\n",
    "            df[column] = df[column].fillna(0)"
   ]
  },
  {
   "cell_type": "code",
   "execution_count": 16,
   "metadata": {},
   "outputs": [
    {
     "data": {
      "text/plain": [
       "Series([], dtype: int64)"
      ]
     },
     "execution_count": 16,
     "metadata": {},
     "output_type": "execute_result"
    }
   ],
   "source": [
    "df_sum2 = df.isnull().sum()\n",
    "df_sum2[df_sum2 > 0]"
   ]
  },
  {
   "cell_type": "markdown",
   "metadata": {},
   "source": [
    "## Data cleaning - test\n",
    "\n",
    "We need to ensure that the testing dataset has the same problems as training dataset so we check it also here using the dunction clean_df developed basing on training dataframe."
   ]
  },
  {
   "cell_type": "code",
   "execution_count": 17,
   "metadata": {},
   "outputs": [],
   "source": [
    "df_test = pd.read_csv('../data/input/out_of_time.csv')"
   ]
  },
  {
   "cell_type": "code",
   "execution_count": 20,
   "metadata": {},
   "outputs": [
    {
     "data": {
      "text/plain": [
       "Series([], dtype: int64)"
      ]
     },
     "execution_count": 20,
     "metadata": {},
     "output_type": "execute_result"
    }
   ],
   "source": [
    "df_sum = df_test.isna().sum()\n",
    "df_sum[df_sum > 0]"
   ]
  },
  {
   "cell_type": "markdown",
   "metadata": {},
   "source": [
    "We also do not have any NAs, lets replace -9999 with NAa"
   ]
  },
  {
   "cell_type": "code",
   "execution_count": 21,
   "metadata": {},
   "outputs": [
    {
     "name": "stderr",
     "output_type": "stream",
     "text": [
      "/var/folders/rh/w6cl6rd95vj2g4s03scz_4fc0000gn/T/ipykernel_16033/316373672.py:2: FutureWarning: The pandas.np module is deprecated and will be removed from pandas in a future version. Import numpy directly instead.\n",
      "  df_test = df_test.replace(-9999, pd.np.nan)\n"
     ]
    }
   ],
   "source": [
    "# change all -9999 to NaN\n",
    "df_test = df_test.replace(-9999, pd.np.nan)"
   ]
  },
  {
   "cell_type": "code",
   "execution_count": 22,
   "metadata": {},
   "outputs": [
    {
     "data": {
      "text/plain": [
       "Active_mortgages                         131194\n",
       "Active_credit_card_lines                 140750\n",
       "External_term_loan_balance               159942\n",
       "External_mortgage_balance                159942\n",
       "External_credit_card_balance             159942\n",
       "limit_in_revolving_loans_H12              31432\n",
       "limit_in_revolving_loans_H11              31432\n",
       "limit_in_revolving_loans_H10              31432\n",
       "limit_in_revolving_loans_H9               31432\n",
       "limit_in_revolving_loans_H8               31432\n",
       "limit_in_revolving_loans_H7               31432\n",
       "limit_in_revolving_loans_H6               31432\n",
       "limit_in_revolving_loans_H5               31432\n",
       "limit_in_revolving_loans_H4               31432\n",
       "limit_in_revolving_loans_H3               31432\n",
       "limit_in_revolving_loans_H2               31432\n",
       "limit_in_revolving_loans_H1               31432\n",
       "limit_in_revolving_loans_H0               31432\n",
       "utilized_limit_in_revolving_loans_H12     31432\n",
       "utilized_limit_in_revolving_loans_H11     31432\n",
       "utilized_limit_in_revolving_loans_H10     31432\n",
       "utilized_limit_in_revolving_loans_H9      31432\n",
       "utilized_limit_in_revolving_loans_H8      31432\n",
       "utilized_limit_in_revolving_loans_H7      31432\n",
       "utilized_limit_in_revolving_loans_H6      31432\n",
       "utilized_limit_in_revolving_loans_H5      31432\n",
       "utilized_limit_in_revolving_loans_H4      31432\n",
       "utilized_limit_in_revolving_loans_H3      31432\n",
       "utilized_limit_in_revolving_loans_H2      31432\n",
       "utilized_limit_in_revolving_loans_H1      31432\n",
       "utilized_limit_in_revolving_loans_H0      31432\n",
       "dtype: int64"
      ]
     },
     "execution_count": 22,
     "metadata": {},
     "output_type": "execute_result"
    }
   ],
   "source": [
    "df_sum = df_test.isna().sum()\n",
    "df_sum[df_sum > 0]"
   ]
  },
  {
   "cell_type": "markdown",
   "metadata": {},
   "source": [
    "We have exactly the same issues on this dataset, we can use the same funcion."
   ]
  },
  {
   "cell_type": "code",
   "execution_count": 25,
   "metadata": {},
   "outputs": [
    {
     "name": "stderr",
     "output_type": "stream",
     "text": [
      "/var/folders/rh/w6cl6rd95vj2g4s03scz_4fc0000gn/T/ipykernel_16033/4210510657.py:2: FutureWarning: The pandas.np module is deprecated and will be removed from pandas in a future version. Import numpy directly instead.\n",
      "  df = df.replace(-9999, pd.np.nan)\n"
     ]
    }
   ],
   "source": [
    "df_test = clean_df(df_test)"
   ]
  }
 ],
 "metadata": {
  "kernelspec": {
   "display_name": "Python 3",
   "language": "python",
   "name": "python3"
  },
  "language_info": {
   "codemirror_mode": {
    "name": "ipython",
    "version": 3
   },
   "file_extension": ".py",
   "mimetype": "text/x-python",
   "name": "python",
   "nbconvert_exporter": "python",
   "pygments_lexer": "ipython3",
   "version": "3.11.2"
  }
 },
 "nbformat": 4,
 "nbformat_minor": 2
}
