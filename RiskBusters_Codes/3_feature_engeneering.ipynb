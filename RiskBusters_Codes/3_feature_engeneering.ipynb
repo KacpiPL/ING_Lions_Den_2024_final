{
 "cells": [
  {
   "cell_type": "code",
   "execution_count": 11,
   "metadata": {},
   "outputs": [],
   "source": [
    "import pandas as pd\n",
    "import numpy as np\n",
    "from feature_engeneering import modify_df\n",
    "from feature_engeneering import drop_columns\n",
    "from feature_engeneering import create_differences_columns"
   ]
  },
  {
   "cell_type": "code",
   "execution_count": 3,
   "metadata": {},
   "outputs": [],
   "source": [
    "df = pd.read_csv('../data/output/in_time_cleaned.csv')"
   ]
  },
  {
   "cell_type": "code",
   "execution_count": 4,
   "metadata": {},
   "outputs": [
    {
     "name": "stderr",
     "output_type": "stream",
     "text": [
      "/Users/kacpergruca/Documents/Projekty/ING_Lions_Den_2024_final/RiskBusters_Codes/feature_engeneering.py:30: UserWarning: Parsing dates in DD/MM/YYYY format when dayfirst=False (the default) was specified. This may lead to inconsistently parsed dates! Specify a format to ensure consistent parsing.\n",
      "  df['Birth_date'] = pd.to_datetime(df['Birth_date'])\n"
     ]
    }
   ],
   "source": [
    "df_modified = modify_df(df)"
   ]
  },
  {
   "cell_type": "code",
   "execution_count": 5,
   "metadata": {},
   "outputs": [
    {
     "data": {
      "text/plain": [
       "Index(['Ref_month', 'Customer_id', 'Birth_date', 'No_dependants',\n",
       "       'Time_in_address', 'Time_in_current_job', 'Credit_cards', 'Debit_cards',\n",
       "       'Active_accounts', 'Oldest_account_date',\n",
       "       ...\n",
       "       'Avg_inc_transactions_H8', 'Avg_out_transactions_H8',\n",
       "       'Avg_inc_transactions_H9', 'Avg_out_transactions_H9',\n",
       "       'Avg_inc_transactions_H10', 'Avg_out_transactions_H10',\n",
       "       'Avg_inc_transactions_H11', 'Avg_out_transactions_H11',\n",
       "       'Avg_inc_transactions_H12', 'Avg_out_transactions_H12'],\n",
       "      dtype='object', length=405)"
      ]
     },
     "execution_count": 5,
     "metadata": {},
     "output_type": "execute_result"
    }
   ],
   "source": [
    "columns = df_modified.columns\n",
    "columns"
   ]
  },
  {
   "cell_type": "code",
   "execution_count": 6,
   "metadata": {},
   "outputs": [
    {
     "data": {
      "text/html": [
       "<div>\n",
       "<style scoped>\n",
       "    .dataframe tbody tr th:only-of-type {\n",
       "        vertical-align: middle;\n",
       "    }\n",
       "\n",
       "    .dataframe tbody tr th {\n",
       "        vertical-align: top;\n",
       "    }\n",
       "\n",
       "    .dataframe thead th {\n",
       "        text-align: right;\n",
       "    }\n",
       "</style>\n",
       "<table border=\"1\" class=\"dataframe\">\n",
       "  <thead>\n",
       "    <tr style=\"text-align: right;\">\n",
       "      <th></th>\n",
       "      <th>0</th>\n",
       "    </tr>\n",
       "  </thead>\n",
       "  <tbody>\n",
       "    <tr>\n",
       "      <th>0</th>\n",
       "      <td>Ref_month</td>\n",
       "    </tr>\n",
       "    <tr>\n",
       "      <th>1</th>\n",
       "      <td>Customer_id</td>\n",
       "    </tr>\n",
       "    <tr>\n",
       "      <th>2</th>\n",
       "      <td>Birth_date</td>\n",
       "    </tr>\n",
       "    <tr>\n",
       "      <th>3</th>\n",
       "      <td>No_dependants</td>\n",
       "    </tr>\n",
       "    <tr>\n",
       "      <th>4</th>\n",
       "      <td>Time_in_address</td>\n",
       "    </tr>\n",
       "    <tr>\n",
       "      <th>...</th>\n",
       "      <td>...</td>\n",
       "    </tr>\n",
       "    <tr>\n",
       "      <th>400</th>\n",
       "      <td>Avg_out_transactions_H10</td>\n",
       "    </tr>\n",
       "    <tr>\n",
       "      <th>401</th>\n",
       "      <td>Avg_inc_transactions_H11</td>\n",
       "    </tr>\n",
       "    <tr>\n",
       "      <th>402</th>\n",
       "      <td>Avg_out_transactions_H11</td>\n",
       "    </tr>\n",
       "    <tr>\n",
       "      <th>403</th>\n",
       "      <td>Avg_inc_transactions_H12</td>\n",
       "    </tr>\n",
       "    <tr>\n",
       "      <th>404</th>\n",
       "      <td>Avg_out_transactions_H12</td>\n",
       "    </tr>\n",
       "  </tbody>\n",
       "</table>\n",
       "<p>405 rows × 1 columns</p>\n",
       "</div>"
      ],
      "text/plain": [
       "                            0\n",
       "0                   Ref_month\n",
       "1                 Customer_id\n",
       "2                  Birth_date\n",
       "3               No_dependants\n",
       "4             Time_in_address\n",
       "..                        ...\n",
       "400  Avg_out_transactions_H10\n",
       "401  Avg_inc_transactions_H11\n",
       "402  Avg_out_transactions_H11\n",
       "403  Avg_inc_transactions_H12\n",
       "404  Avg_out_transactions_H12\n",
       "\n",
       "[405 rows x 1 columns]"
      ]
     },
     "execution_count": 6,
     "metadata": {},
     "output_type": "execute_result"
    }
   ],
   "source": [
    "# write colnames of df_modified to dataframe\n",
    "df_colnames = pd.DataFrame(columns)\n",
    "df_colnames"
   ]
  },
  {
   "cell_type": "markdown",
   "metadata": {},
   "source": [
    "## delete columns"
   ]
  },
  {
   "cell_type": "code",
   "execution_count": 7,
   "metadata": {},
   "outputs": [],
   "source": [
    "columns_to_delete_H = ['inc_transactions_amt_H', 'out_transactions_amt_H', 'overdue_term_loan_H', \n",
    "                       'overdue_credit_card_H', 'overdue_mortgage_H', 'Income_H',\n",
    "                       'current_amount_balance_H', 'savings_amount_balance_H', 'inc_transactions_amt_H',\n",
    "                        'Savings_amount_balance_col_H', 'Current_amount_balance_col_H',\n",
    "                        'Overdue_term_loan_H', 'Overdue_credit_card_H', 'Overdue_mortgage_H',\n",
    "                        'inc_transactions_H', 'out_transactions_H', 'inc_transactions_amt_H', 'out_transactions_amt_H',\n",
    "                        'utilized_limit_in_revolving_loans_H', 'limit_in_revolving_loans_H']\n",
    "\n",
    "columns_to_delete = ['Current_installment', 'Birth_date', 'Ref_month',\n",
    "                     'Contract_end_date', 'Oldest_account_date']"
   ]
  },
  {
   "cell_type": "code",
   "execution_count": 8,
   "metadata": {},
   "outputs": [],
   "source": [
    "df_tes_function = df_modified.copy()"
   ]
  },
  {
   "cell_type": "code",
   "execution_count": 9,
   "metadata": {},
   "outputs": [],
   "source": [
    "# list of columns which has _H in the name in df_tes \n",
    "\n",
    "columns_H = [col for col in df_tes_function.columns if '_H0' in col]\n",
    "\n",
    "# delete last letter from oevery column in columns_H\n",
    "columns_H = [col[:-1] for col in columns_H]"
   ]
  },
  {
   "cell_type": "code",
   "execution_count": 10,
   "metadata": {},
   "outputs": [
    {
     "data": {
      "text/plain": [
       "['DPD_term_loan_H',\n",
       " 'DPD_credit_card_H',\n",
       " 'DPD_mortgage_H',\n",
       " 'Default_flag_H',\n",
       " 'Os_term_loan_H',\n",
       " 'Os_credit_card_H',\n",
       " 'Os_mortgage_H',\n",
       " 'Overdue_term_loan_H',\n",
       " 'Overdue_credit_card_H',\n",
       " 'Overdue_mortgage_H',\n",
       " 'limit_in_revolving_loans_H',\n",
       " 'utilized_limit_in_revolving_loans_H',\n",
       " 'Payments_term_loan_H',\n",
       " 'Payments_credit_card_H',\n",
       " 'Payments_mortgage_H',\n",
       " 'Income_H',\n",
       " 'Current_amount_balance_H',\n",
       " 'Savings_amount_balance_H',\n",
       " 'inc_transactions_H',\n",
       " 'out_transactions_H',\n",
       " 'inc_transactions_amt_H',\n",
       " 'out_transactions_amt_H',\n",
       " 'DTI_H',\n",
       " 'Overdue_to_Income_Ratio_H',\n",
       " 'Financial_Liquidity_Ratio_H',\n",
       " 'Financial_stability_index_H',\n",
       " 'Overdue_aggregation_H',\n",
       " 'Avg_inc_transactions_H',\n",
       " 'Avg_out_transactions_H']"
      ]
     },
     "execution_count": 10,
     "metadata": {},
     "output_type": "execute_result"
    }
   ],
   "source": [
    "columns_H"
   ]
  },
  {
   "cell_type": "code",
   "execution_count": 66,
   "metadata": {},
   "outputs": [],
   "source": [
    "df_tes_function = create_differences_columns(df_tes_function, columns_H)"
   ]
  },
  {
   "cell_type": "code",
   "execution_count": 68,
   "metadata": {},
   "outputs": [],
   "source": [
    "# drop columns with _H in the name\n",
    "\n",
    "def drop_columns_after_transformation(df):\n",
    "    for colname in columns_H:\n",
    "        for i in range(13):\n",
    "                colname2 = colname + str(i)\n",
    "                if colname2 in df.columns:\n",
    "                    df = df.drop(colname2, axis=1)\n",
    "    return df"
   ]
  },
  {
   "cell_type": "code",
   "execution_count": 69,
   "metadata": {},
   "outputs": [],
   "source": [
    "df_tes_function = drop_columns_after_transformation(df_tes_function)"
   ]
  },
  {
   "cell_type": "code",
   "execution_count": 70,
   "metadata": {},
   "outputs": [
    {
     "data": {
      "text/html": [
       "<div>\n",
       "<style scoped>\n",
       "    .dataframe tbody tr th:only-of-type {\n",
       "        vertical-align: middle;\n",
       "    }\n",
       "\n",
       "    .dataframe tbody tr th {\n",
       "        vertical-align: top;\n",
       "    }\n",
       "\n",
       "    .dataframe thead th {\n",
       "        text-align: right;\n",
       "    }\n",
       "</style>\n",
       "<table border=\"1\" class=\"dataframe\">\n",
       "  <thead>\n",
       "    <tr style=\"text-align: right;\">\n",
       "      <th></th>\n",
       "      <th>0</th>\n",
       "    </tr>\n",
       "  </thead>\n",
       "  <tbody>\n",
       "    <tr>\n",
       "      <th>0</th>\n",
       "      <td>Customer_id</td>\n",
       "    </tr>\n",
       "    <tr>\n",
       "      <th>1</th>\n",
       "      <td>No_dependants</td>\n",
       "    </tr>\n",
       "    <tr>\n",
       "      <th>2</th>\n",
       "      <td>Time_in_address</td>\n",
       "    </tr>\n",
       "    <tr>\n",
       "      <th>3</th>\n",
       "      <td>Time_in_current_job</td>\n",
       "    </tr>\n",
       "    <tr>\n",
       "      <th>4</th>\n",
       "      <td>Credit_cards</td>\n",
       "    </tr>\n",
       "    <tr>\n",
       "      <th>...</th>\n",
       "      <td>...</td>\n",
       "    </tr>\n",
       "    <tr>\n",
       "      <th>88</th>\n",
       "      <td>Avg_inc_transactions_H0_H6</td>\n",
       "    </tr>\n",
       "    <tr>\n",
       "      <th>89</th>\n",
       "      <td>Avg_inc_transactions_H0_H12</td>\n",
       "    </tr>\n",
       "    <tr>\n",
       "      <th>90</th>\n",
       "      <td>Avg_out_transactions_H0_H3</td>\n",
       "    </tr>\n",
       "    <tr>\n",
       "      <th>91</th>\n",
       "      <td>Avg_out_transactions_H0_H6</td>\n",
       "    </tr>\n",
       "    <tr>\n",
       "      <th>92</th>\n",
       "      <td>Avg_out_transactions_H0_H12</td>\n",
       "    </tr>\n",
       "  </tbody>\n",
       "</table>\n",
       "<p>93 rows × 1 columns</p>\n",
       "</div>"
      ],
      "text/plain": [
       "                              0\n",
       "0                   Customer_id\n",
       "1                 No_dependants\n",
       "2               Time_in_address\n",
       "3           Time_in_current_job\n",
       "4                  Credit_cards\n",
       "..                          ...\n",
       "88   Avg_inc_transactions_H0_H6\n",
       "89  Avg_inc_transactions_H0_H12\n",
       "90   Avg_out_transactions_H0_H3\n",
       "91   Avg_out_transactions_H0_H6\n",
       "92  Avg_out_transactions_H0_H12\n",
       "\n",
       "[93 rows x 1 columns]"
      ]
     },
     "execution_count": 70,
     "metadata": {},
     "output_type": "execute_result"
    }
   ],
   "source": [
    "columns = df_tes_function.columns\n",
    "columns = pd.DataFrame(columns)\n",
    "columns"
   ]
  },
  {
   "cell_type": "code",
   "execution_count": 59,
   "metadata": {},
   "outputs": [
    {
     "data": {
      "text/plain": [
       "Overdue_to_Income_Ratio_H0             1\n",
       "Financial_stability_index_H0        1533\n",
       "Financial_stability_index_H1        1481\n",
       "Financial_stability_index_H2        1571\n",
       "Financial_stability_index_H3        1565\n",
       "Financial_stability_index_H4        1567\n",
       "Financial_stability_index_H5        1540\n",
       "Financial_stability_index_H6        1537\n",
       "Financial_stability_index_H7        1532\n",
       "Financial_stability_index_H8        1509\n",
       "Financial_stability_index_H9        1514\n",
       "Financial_stability_index_H10       1516\n",
       "Financial_stability_index_H11       1569\n",
       "Financial_stability_index_H12       1536\n",
       "Overdue_to_Income_Ratio_H0_H3          1\n",
       "Overdue_to_Income_Ratio_H0_H6          1\n",
       "Overdue_to_Income_Ratio_H0_H12         1\n",
       "Financial_stability_index_H0_H3     3090\n",
       "Financial_stability_index_H0_H6     3061\n",
       "Financial_stability_index_H0_H12    3064\n",
       "dtype: int64"
      ]
     },
     "execution_count": 59,
     "metadata": {},
     "output_type": "execute_result"
    }
   ],
   "source": [
    "nulls = df_tes_function.isna().sum()\n",
    "nulls[nulls > 0]"
   ]
  },
  {
   "cell_type": "code",
   "execution_count": 60,
   "metadata": {},
   "outputs": [],
   "source": [
    "# drop all NaN values\n",
    "df_tes_function = df_tes_function.dropna()"
   ]
  },
  {
   "cell_type": "code",
   "execution_count": null,
   "metadata": {},
   "outputs": [],
   "source": []
  },
  {
   "cell_type": "markdown",
   "metadata": {},
   "source": [
    "## clients_age"
   ]
  },
  {
   "cell_type": "code",
   "execution_count": 8,
   "metadata": {},
   "outputs": [],
   "source": [
    "# change the type of Birth_date to datetime\n",
    "df['Birth_date'] = pd.to_datetime(df['Birth_date'])"
   ]
  },
  {
   "cell_type": "code",
   "execution_count": 9,
   "metadata": {},
   "outputs": [],
   "source": [
    "# add a column clients_age with the age of the client by substracting the birth_date from the current date\n",
    "current_date = pd.to_datetime('2024-04-03')\n",
    "df['clients_age'] = (current_date - df['Birth_date']).astype('<m8[Y]').astype(int)"
   ]
  },
  {
   "cell_type": "markdown",
   "metadata": {},
   "source": [
    "## Create difference columns\n",
    "\n",
    "Approach to new variables:\n",
    "\n",
    "1. We crate 12 new variables for every Hx\n",
    "2. We calculate for every column:\n",
    "\n",
    "(H0 - H3) / H0\n",
    "(H0 - H6) / H0\n",
    "(H0 - H12) / H0"
   ]
  },
  {
   "cell_type": "markdown",
   "metadata": {},
   "source": [
    "## Create DTI\n",
    "\n",
    "(inc_transactions_amt - out_transactions_amt) / current_installment"
   ]
  },
  {
   "cell_type": "code",
   "execution_count": null,
   "metadata": {},
   "outputs": [],
   "source": [
    "columns_to_delete_H = ['inc_transactions_amt_H', 'out_transactions_amt_H']\n",
    "columns_to_delete = ['Current_installment', 'Birth_date']"
   ]
  }
 ],
 "metadata": {
  "kernelspec": {
   "display_name": "Python 3",
   "language": "python",
   "name": "python3"
  },
  "language_info": {
   "codemirror_mode": {
    "name": "ipython",
    "version": 3
   },
   "file_extension": ".py",
   "mimetype": "text/x-python",
   "name": "python",
   "nbconvert_exporter": "python",
   "pygments_lexer": "ipython3",
   "version": "3.11.2"
  }
 },
 "nbformat": 4,
 "nbformat_minor": 2
}
