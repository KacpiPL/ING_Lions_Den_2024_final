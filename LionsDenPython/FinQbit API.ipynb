{
 "cells": [
  {
   "cell_type": "markdown",
   "id": "da689d42",
   "metadata": {
    "slideshow": {
     "slide_type": ""
    },
    "tags": []
   },
   "source": [
    "Activation of Python API"
   ]
  },
  {
   "cell_type": "code",
   "execution_count": 9,
   "id": "d16f0257",
   "metadata": {
    "slideshow": {
     "slide_type": ""
    },
    "tags": []
   },
   "outputs": [],
   "source": [
    "from PythonAPI import *\n",
    "import pandas as pd\n",
    "from sklearn.preprocessing import MinMaxScaler"
   ]
  },
  {
   "cell_type": "markdown",
   "id": "bc593111",
   "metadata": {},
   "source": [
    "Load data"
   ]
  },
  {
   "cell_type": "code",
   "execution_count": 64,
   "id": "f5d8aae1",
   "metadata": {},
   "outputs": [],
   "source": [
    "df_train = pd.read_csv('../data1/train_rf.csv')\n",
    "df_train = df_train.iloc[:, 1:]\n",
    "\n",
    "df_test = pd.read_csv('../data1/test_rf.csv')\n",
    "df_test = df_test.iloc[:, 1:]"
   ]
  },
  {
   "cell_type": "markdown",
   "id": "0b1f39d2",
   "metadata": {},
   "source": [
    "Scale data"
   ]
  },
  {
   "cell_type": "code",
   "execution_count": 65,
   "id": "17c9e19a",
   "metadata": {},
   "outputs": [],
   "source": [
    "def scale_data(df):\n",
    "    scaler = MinMaxScaler()\n",
    "    df.iloc[:, :-1] = scaler.fit_transform(df.iloc[:, :-1])\n",
    "    return df"
   ]
  },
  {
   "cell_type": "code",
   "execution_count": 66,
   "id": "103bfcb4",
   "metadata": {},
   "outputs": [
    {
     "name": "stderr",
     "output_type": "stream",
     "text": [
      "/var/folders/rh/w6cl6rd95vj2g4s03scz_4fc0000gn/T/ipykernel_59423/3975466352.py:3: DeprecationWarning: In a future version, `df.iloc[:, i] = newvals` will attempt to set the values inplace instead of always setting a new array. To retain the old behavior, use either `df[df.columns[i]] = newvals` or, if columns are non-unique, `df.isetitem(i, newvals)`\n",
      "  df.iloc[:, :-1] = scaler.fit_transform(df.iloc[:, :-1])\n",
      "/var/folders/rh/w6cl6rd95vj2g4s03scz_4fc0000gn/T/ipykernel_59423/3975466352.py:3: DeprecationWarning: In a future version, `df.iloc[:, i] = newvals` will attempt to set the values inplace instead of always setting a new array. To retain the old behavior, use either `df[df.columns[i]] = newvals` or, if columns are non-unique, `df.isetitem(i, newvals)`\n",
      "  df.iloc[:, :-1] = scaler.fit_transform(df.iloc[:, :-1])\n"
     ]
    }
   ],
   "source": [
    "df_train = scale_data(df_train)\n",
    "df_test = scale_data(df_test)"
   ]
  },
  {
   "cell_type": "code",
   "execution_count": 69,
   "id": "cb0b8495",
   "metadata": {},
   "outputs": [],
   "source": [
    "df_train.to_csv('../data1/train_rf_scaled.csv', index=False)\n",
    "df_test.to_csv('../data1/test_rf_scaled.csv', index=False)"
   ]
  },
  {
   "cell_type": "code",
   "execution_count": 70,
   "id": "9842c359",
   "metadata": {},
   "outputs": [
    {
     "data": {
      "text/plain": [
       "Index(['Default_flag_H0_H3', 'utilized_limit_in_revolving_loans_H0',\n",
       "       'Default_flag_H0_H6', 'DPD_term_loan_H0_H3', 'Os_term_loan_H0_H3',\n",
       "       'Payments_term_loan_H0_H3', 'Os_term_loan_H0_H6',\n",
       "       'Payments_term_loan_H0_H6', 'Income_H0'],\n",
       "      dtype='object')"
      ]
     },
     "execution_count": 70,
     "metadata": {},
     "output_type": "execute_result"
    }
   ],
   "source": [
    "x_names = df_train.columns[:-1]\n",
    "y_name = df_train.columns[-1]\n",
    "x_names"
   ]
  },
  {
   "cell_type": "markdown",
   "id": "8cb0816e",
   "metadata": {
    "slideshow": {
     "slide_type": ""
    },
    "tags": []
   },
   "source": [
    "We are configuring the username and password. Each team possesses a distinct pair of credentials"
   ]
  },
  {
   "cell_type": "code",
   "execution_count": 71,
   "id": "1c6ef227",
   "metadata": {
    "slideshow": {
     "slide_type": ""
    },
    "tags": []
   },
   "outputs": [],
   "source": [
    "user = \"team02\"\n",
    "password = \"lQys9Nt]%n@v\""
   ]
  },
  {
   "cell_type": "markdown",
   "id": "13a0b01c",
   "metadata": {
    "slideshow": {
     "slide_type": ""
    },
    "tags": []
   },
   "source": [
    "We are verifying our ability to establish a connection with the finQbit API. If the connection is successful, the method will return \"OK\".\n",
    "Additional details regarding the method can be found in Chapter 4.1 of the API documentation."
   ]
  },
  {
   "cell_type": "code",
   "execution_count": 72,
   "id": "7b97af47",
   "metadata": {},
   "outputs": [
    {
     "data": {
      "text/plain": [
       "'OK'"
      ]
     },
     "execution_count": 72,
     "metadata": {},
     "output_type": "execute_result"
    }
   ],
   "source": [
    "check_connection()"
   ]
  },
  {
   "cell_type": "markdown",
   "id": "c057cec2",
   "metadata": {
    "slideshow": {
     "slide_type": ""
    },
    "tags": []
   },
   "source": [
    "Subsequently, you should transfer the training data, which has been prepared with up to 9 features per item represented as numbers within the 0-1 range, through FTP. Utilize the identical username and password for FTP access that are used for API connections."
   ]
  },
  {
   "cell_type": "markdown",
   "id": "571c6318",
   "metadata": {},
   "source": [
    "After transferring a file to FTP, we must notify the system so that it can load and preprocess the file accordingly. This is achieved using the loadData method. Additional details regarding the method can be found in Chapter 4.3 of the API documentation."
   ]
  },
  {
   "cell_type": "code",
   "execution_count": 73,
   "id": "5cdfd82e",
   "metadata": {},
   "outputs": [
    {
     "data": {
      "text/plain": [
       "'OK'"
      ]
     },
     "execution_count": 73,
     "metadata": {},
     "output_type": "execute_result"
    }
   ],
   "source": [
    "load_data(user, password, 'train_rf_scaled.csv',\n",
    "         ['Default_flag_H0_H3', 'utilized_limit_in_revolving_loans_H0',\n",
    "       'Default_flag_H0_H6', 'DPD_term_loan_H0_H3', 'Os_term_loan_H0_H3',\n",
    "       'Payments_term_loan_H0_H3', 'Os_term_loan_H0_H6',\n",
    "       'Payments_term_loan_H0_H6', 'Income_H0'],\n",
    "         'Target')\n",
    "# load_data(user, password, \"trainDataBig.csv\",\n",
    "#       [\"Dependents\", \"Education\", \"Self_Employed\", \"ApplicantIncome\", \"CoapplicantIncome\", \"LoanAmount\", \"Loan_Amount_Term\", \"Credit_History\", \"Property_Area\"],\n",
    "#       \"Loan_Status\")    "
   ]
  },
  {
   "cell_type": "markdown",
   "id": "ad024643",
   "metadata": {},
   "source": [
    "Given that processing occurs in a separate thread, the server's response merely confirms that the data has been accepted for processing. \n",
    "Therefore, one must monitor the status of the processing. We anticipate the message \"The data was loaded correctly.\"\n",
    "Additional details regarding the method can be found in Chapter 4.2 of the API documentation."
   ]
  },
  {
   "cell_type": "code",
   "execution_count": 74,
   "id": "e31ce4ce",
   "metadata": {},
   "outputs": [
    {
     "data": {
      "text/plain": [
       "'Pre-process of data.'"
      ]
     },
     "execution_count": 74,
     "metadata": {},
     "output_type": "execute_result"
    }
   ],
   "source": [
    "check_status(user, password)"
   ]
  },
  {
   "cell_type": "markdown",
   "id": "16d8a659",
   "metadata": {},
   "source": [
    "Following that, we start the training process, for which parameter details are available in Chapter 4.4 of the API documentation.\n",
    "It's important to verify the training progress by using the \"check_status\" method, looking for the confirmation: \"The model was trained correctly.\""
   ]
  },
  {
   "cell_type": "code",
   "execution_count": 77,
   "id": "efe46c34",
   "metadata": {},
   "outputs": [
    {
     "data": {
      "text/plain": [
       "'OK'"
      ]
     },
     "execution_count": 77,
     "metadata": {},
     "output_type": "execute_result"
    }
   ],
   "source": [
    "train(user, password, 100, 100, 0.1, \"Eva\", \"SU2U4\")"
   ]
  },
  {
   "cell_type": "code",
   "execution_count": 80,
   "id": "768aaa7e",
   "metadata": {},
   "outputs": [
    {
     "data": {
      "text/plain": [
       "'team02: New best parameters found: loss=0.9617429733276366'"
      ]
     },
     "execution_count": 80,
     "metadata": {},
     "output_type": "execute_result"
    }
   ],
   "source": [
    "check_status(user, password)"
   ]
  },
  {
   "cell_type": "markdown",
   "id": "a7d85907",
   "metadata": {},
   "source": [
    "We retrieve the identified optimization parameters. Additional details regarding the method can be found in Chapter 4.5 of the API documentation."
   ]
  },
  {
   "cell_type": "code",
   "execution_count": 81,
   "id": "b08af8be",
   "metadata": {},
   "outputs": [],
   "source": [
    "params = get_parameters(user, password)"
   ]
  },
  {
   "cell_type": "markdown",
   "id": "c4fd9602",
   "metadata": {},
   "source": [
    "Parameters are specific to each network structure and feature count combination. However, these combinations can undergo training with various optimization techniques.\n",
    "Providing these parameters allows us to resume optimization from where it was last left off."
   ]
  },
  {
   "cell_type": "code",
   "execution_count": 97,
   "id": "5829feef",
   "metadata": {},
   "outputs": [
    {
     "data": {
      "text/plain": [
       "'OK'"
      ]
     },
     "execution_count": 97,
     "metadata": {},
     "output_type": "execute_result"
    }
   ],
   "source": [
    "# tutaj podane parametry ktore znalazlem\n",
    "train(user, password, 100, 100, 0.1, \"Adam\", \"SU2U4\", params=params,\n",
    "      beta=0.1, beta2=0.1)"
   ]
  },
  {
   "cell_type": "code",
   "execution_count": 99,
   "id": "a227c837",
   "metadata": {},
   "outputs": [
    {
     "data": {
      "text/plain": [
       "'team02: New best parameters found: loss=0.8556270790100098'"
      ]
     },
     "execution_count": 99,
     "metadata": {},
     "output_type": "execute_result"
    }
   ],
   "source": [
    "check_status(user, password)"
   ]
  },
  {
   "cell_type": "code",
   "execution_count": 88,
   "id": "93bdaa7d",
   "metadata": {},
   "outputs": [],
   "source": [
    "params = get_parameters(user, password)"
   ]
  },
  {
   "cell_type": "markdown",
   "id": "a6dd6aef",
   "metadata": {},
   "source": [
    "Once our model is trained, we can evaluate its performance with a specified initial vector by utilizing the score method.\n",
    "Additional details regarding the method can be found in Chapter 4.6 of the API documentation."
   ]
  },
  {
   "cell_type": "code",
   "execution_count": 90,
   "id": "dc6dc29d",
   "metadata": {},
   "outputs": [
    {
     "data": {
      "text/plain": [
       "'ERROR: The number of model parameters disagrees with the number of provided parameters. Check if you use the same model with the same number of input features.'"
      ]
     },
     "execution_count": 90,
     "metadata": {},
     "output_type": "execute_result"
    }
   ],
   "source": [
    "score(user, password, \"SU2U4\", [0.2222222222222224,0.41666666666666663,0.09756097560975609,0.05882352941176471], params)"
   ]
  },
  {
   "cell_type": "markdown",
   "id": "76af530d",
   "metadata": {},
   "source": [
    "Invoking the score function on the test dataset directly would not be efficient. Hence, it's advisable to transfer the test dataset to the same location as the training dataset using FTP.\n",
    "This allows for validation across the entire dataset. Details about the method's parameters are available in the API documentation in Chapter 4.6."
   ]
  },
  {
   "cell_type": "code",
   "execution_count": 93,
   "id": "d65e5fe1",
   "metadata": {},
   "outputs": [
    {
     "data": {
      "text/plain": [
       "'OK'"
      ]
     },
     "execution_count": 93,
     "metadata": {},
     "output_type": "execute_result"
    }
   ],
   "source": [
    "# validate(user, password, \"testIris.csv\",\n",
    "#          [\"SepalLength\", \"SepalWidth\", \"PetalLength\", \"PetalWidth\"],\n",
    "#          \"Species\", \"SU2U4\", params)\n",
    "validate(user, password, \"test_rf_scaled.csv\",\n",
    "         ['Default_flag_H0_H3', 'utilized_limit_in_revolving_loans_H0',\n",
    "       'Default_flag_H0_H6', 'DPD_term_loan_H0_H3', 'Os_term_loan_H0_H3',\n",
    "       'Payments_term_loan_H0_H3', 'Os_term_loan_H0_H6',\n",
    "       'Payments_term_loan_H0_H6', 'Income_H0'],\n",
    "         \"Target\", \"SU2U4\", params)  "
   ]
  },
  {
   "cell_type": "markdown",
   "id": "fd193d2d",
   "metadata": {},
   "source": [
    "Keep in mind that the validation process runs on a separate thread, with the method returning confirmation that the server has undertaken the task.\n",
    "To ascertain the outcome of the validation, one must obtain the status."
   ]
  },
  {
   "cell_type": "code",
   "execution_count": 96,
   "id": "00acc880",
   "metadata": {},
   "outputs": [
    {
     "data": {
      "text/plain": [
       "'Accuracy=0.6059093516924843, precision=0.14679062583538777, recall=0.6933707471062786, AUC=0.7072733286076687'"
      ]
     },
     "execution_count": 96,
     "metadata": {},
     "output_type": "execute_result"
    }
   ],
   "source": [
    "check_status(user, password)"
   ]
  },
  {
   "cell_type": "code",
   "execution_count": null,
   "id": "9f9d86c7",
   "metadata": {},
   "outputs": [],
   "source": []
  }
 ],
 "metadata": {
  "kernelspec": {
   "display_name": "Python 3 (ipykernel)",
   "language": "python",
   "name": "python3"
  },
  "language_info": {
   "codemirror_mode": {
    "name": "ipython",
    "version": 3
   },
   "file_extension": ".py",
   "mimetype": "text/x-python",
   "name": "python",
   "nbconvert_exporter": "python",
   "pygments_lexer": "ipython3",
   "version": "3.11.2"
  }
 },
 "nbformat": 4,
 "nbformat_minor": 5
}
