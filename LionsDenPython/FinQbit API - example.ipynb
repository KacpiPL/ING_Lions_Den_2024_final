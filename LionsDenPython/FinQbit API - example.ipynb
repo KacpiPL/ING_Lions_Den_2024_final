{
 "cells": [
  {
   "cell_type": "markdown",
   "id": "da689d42",
   "metadata": {
    "slideshow": {
     "slide_type": ""
    },
    "tags": []
   },
   "source": [
    "Activation of Python API"
   ]
  },
  {
   "cell_type": "code",
   "execution_count": 3,
   "id": "d16f0257",
   "metadata": {
    "slideshow": {
     "slide_type": ""
    },
    "tags": []
   },
   "outputs": [],
   "source": [
    "from PythonAPI import *"
   ]
  },
  {
   "cell_type": "markdown",
   "id": "8cb0816e",
   "metadata": {
    "slideshow": {
     "slide_type": ""
    },
    "tags": []
   },
   "source": [
    "We are configuring the username and password. Each team possesses a distinct pair of credentials"
   ]
  },
  {
   "cell_type": "code",
   "execution_count": 4,
   "id": "1c6ef227",
   "metadata": {
    "slideshow": {
     "slide_type": ""
    },
    "tags": []
   },
   "outputs": [],
   "source": [
    "user = \"team02\"\n",
    "password = \"lQys9Nt]%n@v\""
   ]
  },
  {
   "cell_type": "markdown",
   "id": "13a0b01c",
   "metadata": {
    "slideshow": {
     "slide_type": ""
    },
    "tags": []
   },
   "source": [
    "We are verifying our ability to establish a connection with the finQbit API. If the connection is successful, the method will return \"OK\".\n",
    "Additional details regarding the method can be found in Chapter 4.1 of the API documentation."
   ]
  },
  {
   "cell_type": "code",
   "execution_count": 9,
   "id": "7b97af47",
   "metadata": {},
   "outputs": [
    {
     "data": {
      "text/plain": [
       "'OK'"
      ]
     },
     "execution_count": 9,
     "metadata": {},
     "output_type": "execute_result"
    }
   ],
   "source": [
    "check_connection()"
   ]
  },
  {
   "cell_type": "markdown",
   "id": "c057cec2",
   "metadata": {
    "slideshow": {
     "slide_type": ""
    },
    "tags": []
   },
   "source": [
    "Subsequently, you should transfer the training data, which has been prepared with up to 9 features per item represented as numbers within the 0-1 range, through FTP. Utilize the identical username and password for FTP access that are used for API connections."
   ]
  },
  {
   "cell_type": "markdown",
   "id": "571c6318",
   "metadata": {},
   "source": [
    "After transferring a file to FTP, we must notify the system so that it can load and preprocess the file accordingly. This is achieved using the loadData method. Additional details regarding the method can be found in Chapter 4.3 of the API documentation."
   ]
  },
  {
   "cell_type": "code",
   "execution_count": 6,
   "id": "5cdfd82e",
   "metadata": {},
   "outputs": [
    {
     "data": {
      "text/plain": [
       "'OK'"
      ]
     },
     "execution_count": 6,
     "metadata": {},
     "output_type": "execute_result"
    }
   ],
   "source": [
    "load_data(user, password, \"trainIris.csv\",\n",
    "         [\"SepalLength\", \"SepalWidth\", \"PetalLength\", \"PetalWidth\"],\n",
    "         \"Species\")\n",
    "# load_data(user, password, \"trainDataBig.csv\",\n",
    "#       [\"Dependents\", \"Education\", \"Self_Employed\", \"ApplicantIncome\", \"CoapplicantIncome\", \"LoanAmount\", \"Loan_Amount_Term\", \"Credit_History\", \"Property_Area\"],\n",
    "#       \"Loan_Status\")    "
   ]
  },
  {
   "cell_type": "markdown",
   "id": "ad024643",
   "metadata": {},
   "source": [
    "Given that processing occurs in a separate thread, the server's response merely confirms that the data has been accepted for processing. \n",
    "Therefore, one must monitor the status of the processing. We anticipate the message \"The data was loaded correctly.\"\n",
    "Additional details regarding the method can be found in Chapter 4.2 of the API documentation."
   ]
  },
  {
   "cell_type": "code",
   "execution_count": 7,
   "id": "e31ce4ce",
   "metadata": {},
   "outputs": [
    {
     "data": {
      "text/plain": [
       "'ERROR: Unable to find file trainIris.csv.'"
      ]
     },
     "execution_count": 7,
     "metadata": {},
     "output_type": "execute_result"
    }
   ],
   "source": [
    "check_status(user, password)"
   ]
  },
  {
   "cell_type": "markdown",
   "id": "16d8a659",
   "metadata": {},
   "source": [
    "Following that, we start the training process, for which parameter details are available in Chapter 4.4 of the API documentation.\n",
    "It's important to verify the training progress by using the \"check_status\" method, looking for the confirmation: \"The model was trained correctly.\""
   ]
  },
  {
   "cell_type": "code",
   "execution_count": 31,
   "id": "efe46c34",
   "metadata": {},
   "outputs": [
    {
     "data": {
      "text/plain": [
       "'OK'"
      ]
     },
     "execution_count": 31,
     "metadata": {},
     "output_type": "execute_result"
    }
   ],
   "source": [
    "train(user, password, 100, 100, 0.1, \"Eva\", \"SU2U4\")"
   ]
  },
  {
   "cell_type": "code",
   "execution_count": 32,
   "id": "768aaa7e",
   "metadata": {},
   "outputs": [
    {
     "data": {
      "text/plain": [
       "'The model was trained correctly.'"
      ]
     },
     "execution_count": 32,
     "metadata": {},
     "output_type": "execute_result"
    }
   ],
   "source": [
    "check_status(user, password)"
   ]
  },
  {
   "cell_type": "markdown",
   "id": "a7d85907",
   "metadata": {},
   "source": [
    "We retrieve the identified optimization parameters. Additional details regarding the method can be found in Chapter 4.5 of the API documentation."
   ]
  },
  {
   "cell_type": "code",
   "execution_count": 33,
   "id": "b08af8be",
   "metadata": {},
   "outputs": [],
   "source": [
    "params = get_parameters(user, password)"
   ]
  },
  {
   "cell_type": "markdown",
   "id": "c4fd9602",
   "metadata": {},
   "source": [
    "Parameters are specific to each network structure and feature count combination. However, these combinations can undergo training with various optimization techniques.\n",
    "Providing these parameters allows us to resume optimization from where it was last left off."
   ]
  },
  {
   "cell_type": "code",
   "execution_count": 34,
   "id": "5829feef",
   "metadata": {},
   "outputs": [
    {
     "data": {
      "text/plain": [
       "'OK'"
      ]
     },
     "execution_count": 34,
     "metadata": {},
     "output_type": "execute_result"
    }
   ],
   "source": [
    "train(user, password, 100, 100, 0.1, \"Adam\", \"SU2U4\", params=params,\n",
    "      beta=0.1, beta2=0.1)"
   ]
  },
  {
   "cell_type": "code",
   "execution_count": 36,
   "id": "a227c837",
   "metadata": {},
   "outputs": [
    {
     "data": {
      "text/plain": [
       "'The model was trained correctly.'"
      ]
     },
     "execution_count": 36,
     "metadata": {},
     "output_type": "execute_result"
    }
   ],
   "source": [
    "check_status(user, password)"
   ]
  },
  {
   "cell_type": "code",
   "execution_count": 37,
   "id": "93bdaa7d",
   "metadata": {},
   "outputs": [],
   "source": [
    "params = get_parameters(user, password)"
   ]
  },
  {
   "cell_type": "markdown",
   "id": "a6dd6aef",
   "metadata": {},
   "source": [
    "Once our model is trained, we can evaluate its performance with a specified initial vector by utilizing the score method.\n",
    "Additional details regarding the method can be found in Chapter 4.6 of the API documentation."
   ]
  },
  {
   "cell_type": "code",
   "execution_count": 20,
   "id": "dc6dc29d",
   "metadata": {},
   "outputs": [
    {
     "data": {
      "text/plain": [
       "0.93235767"
      ]
     },
     "execution_count": 20,
     "metadata": {},
     "output_type": "execute_result"
    }
   ],
   "source": [
    "score(user, password, \"SU2U4\", [0.2222222222222224,0.41666666666666663,0.09756097560975609,0.05882352941176471], params)"
   ]
  },
  {
   "cell_type": "markdown",
   "id": "76af530d",
   "metadata": {},
   "source": [
    "Invoking the score function on the test dataset directly would not be efficient. Hence, it's advisable to transfer the test dataset to the same location as the training dataset using FTP.\n",
    "This allows for validation across the entire dataset. Details about the method's parameters are available in the API documentation in Chapter 4.6."
   ]
  },
  {
   "cell_type": "code",
   "execution_count": 38,
   "id": "d65e5fe1",
   "metadata": {},
   "outputs": [
    {
     "data": {
      "text/plain": [
       "'OK'"
      ]
     },
     "execution_count": 38,
     "metadata": {},
     "output_type": "execute_result"
    }
   ],
   "source": [
    "# validate(user, password, \"testIris.csv\",\n",
    "#          [\"SepalLength\", \"SepalWidth\", \"PetalLength\", \"PetalWidth\"],\n",
    "#          \"Species\", \"SU2U4\", params)\n",
    "validate(user, password, \"testData.csv\",\n",
    "         [\"Dependents\", \"Education\", \"Self_Employed\", \"ApplicantIncome\", \"CoapplicantIncome\", \"LoanAmount\", \"Loan_Amount_Term\", \"Credit_History\", \"Property_Area\"],\n",
    "         \"Loan_Status\", \"SU2U4\", params)  "
   ]
  },
  {
   "cell_type": "markdown",
   "id": "fd193d2d",
   "metadata": {},
   "source": [
    "Keep in mind that the validation process runs on a separate thread, with the method returning confirmation that the server has undertaken the task.\n",
    "To ascertain the outcome of the validation, one must obtain the status."
   ]
  },
  {
   "cell_type": "code",
   "execution_count": 40,
   "id": "00acc880",
   "metadata": {},
   "outputs": [
    {
     "data": {
      "text/plain": [
       "'Accuracy=0.9391304347826087, precision=0.925531914893617, recall=1.0'"
      ]
     },
     "execution_count": 40,
     "metadata": {},
     "output_type": "execute_result"
    }
   ],
   "source": [
    "check_status(user, password)"
   ]
  },
  {
   "cell_type": "code",
   "execution_count": null,
   "id": "9f9d86c7",
   "metadata": {},
   "outputs": [],
   "source": []
  }
 ],
 "metadata": {
  "kernelspec": {
   "display_name": "Python 3 (ipykernel)",
   "language": "python",
   "name": "python3"
  },
  "language_info": {
   "codemirror_mode": {
    "name": "ipython",
    "version": 3
   },
   "file_extension": ".py",
   "mimetype": "text/x-python",
   "name": "python",
   "nbconvert_exporter": "python",
   "pygments_lexer": "ipython3",
   "version": "3.11.2"
  }
 },
 "nbformat": 4,
 "nbformat_minor": 5
}
