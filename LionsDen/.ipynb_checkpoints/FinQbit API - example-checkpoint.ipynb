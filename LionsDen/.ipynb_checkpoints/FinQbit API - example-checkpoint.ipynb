{
 "cells": [
  {
   "cell_type": "markdown",
   "id": "da689d42",
   "metadata": {
    "slideshow": {
     "slide_type": ""
    },
    "tags": []
   },
   "source": [
    "Activation of Julia project with the environment"
   ]
  },
  {
   "cell_type": "code",
   "execution_count": 1,
   "id": "d16f0257",
   "metadata": {
    "slideshow": {
     "slide_type": ""
    },
    "tags": []
   },
   "outputs": [
    {
     "name": "stderr",
     "output_type": "stream",
     "text": [
      "\u001b[32m\u001b[1m  Activating\u001b[22m\u001b[39m project at `~/code/finQbit/ING/LionsDen`\n",
      "\u001b[32m\u001b[1mPrecompiling\u001b[22m\u001b[39m project...\n",
      "\u001b[32m  ✓ \u001b[39mLionsDen\n",
      "  1 dependency successfully precompiled in 3 seconds. 58 already precompiled.\n"
     ]
    }
   ],
   "source": [
    "import Pkg\n",
    "Pkg.activate(\".\")\n",
    "Pkg.instantiate()"
   ]
  },
  {
   "cell_type": "markdown",
   "id": "239b3515",
   "metadata": {
    "slideshow": {
     "slide_type": "notes"
    },
    "tags": []
   },
   "source": [
    "Import of the API library"
   ]
  },
  {
   "cell_type": "code",
   "execution_count": 2,
   "id": "7e32707d",
   "metadata": {},
   "outputs": [],
   "source": [
    "using LionsDen"
   ]
  },
  {
   "cell_type": "markdown",
   "id": "8cb0816e",
   "metadata": {
    "slideshow": {
     "slide_type": ""
    },
    "tags": []
   },
   "source": [
    "We are configuring the username and password. Each team possesses a distinct pair of credentials"
   ]
  },
  {
   "cell_type": "code",
   "execution_count": 3,
   "id": "1c6ef227",
   "metadata": {
    "slideshow": {
     "slide_type": ""
    },
    "tags": []
   },
   "outputs": [],
   "source": [
    "user = \"teamXX\"\n",
    "password = \"XX\"; nothing"
   ]
  },
  {
   "cell_type": "markdown",
   "id": "13a0b01c",
   "metadata": {
    "slideshow": {
     "slide_type": ""
    },
    "tags": []
   },
   "source": [
    "We are verifying our ability to establish a connection with the finQbit API. If the connection is successful, the method will return \"OK\".\n",
    "Additional details regarding the method can be found in Chapter 4.1 of the API documentation."
   ]
  },
  {
   "cell_type": "code",
   "execution_count": 23,
   "id": "7b97af47",
   "metadata": {},
   "outputs": [
    {
     "data": {
      "text/plain": [
       "\"OK\""
      ]
     },
     "execution_count": 23,
     "metadata": {},
     "output_type": "execute_result"
    }
   ],
   "source": [
    "check_connection()"
   ]
  },
  {
   "cell_type": "markdown",
   "id": "c057cec2",
   "metadata": {
    "slideshow": {
     "slide_type": ""
    },
    "tags": []
   },
   "source": [
    "Subsequently, you should transfer the training data, which has been prepared with up to 9 features per item represented as numbers within the 0-1 range, through FTP. Utilize the identical username and password for FTP access that are used for API connections.\n",
    "\n",
    "The files iris.jl and loans.jl contain examples of how to normalize data tailored to the requirements of the model."
   ]
  },
  {
   "cell_type": "markdown",
   "id": "571c6318",
   "metadata": {},
   "source": [
    "After transferring a file to FTP, we must notify the system so that it can load and preprocess the file accordingly. This is achieved using the loadData method. Additional details regarding the method can be found in Chapter 4.3 of the API documentation."
   ]
  },
  {
   "cell_type": "code",
   "execution_count": 24,
   "id": "5cdfd82e",
   "metadata": {},
   "outputs": [
    {
     "data": {
      "text/plain": [
       "\"OK\""
      ]
     },
     "execution_count": 24,
     "metadata": {},
     "output_type": "execute_result"
    }
   ],
   "source": [
    "load_data(user, password, \"trainIris.csv\",\n",
    "         [\"SepalLength\", \"SepalWidth\", \"PetalLength\", \"PetalWidth\"],\n",
    "         \"Species\")\n",
    "# load_data(user, password, \"trainDataBig.csv\",\n",
    "#       [\"Dependents\", \"Education\", \"Self_Employed\", \"ApplicantIncome\", \"CoapplicantIncome\", \"LoanAmount\", \"Loan_Amount_Term\", \"Credit_History\", \"Property_Area\"],\n",
    "#       \"Loan_Status\")    "
   ]
  },
  {
   "cell_type": "markdown",
   "id": "ad024643",
   "metadata": {},
   "source": [
    "Given that processing occurs in a separate thread, the server's response merely confirms that the data has been accepted for processing. \n",
    "Therefore, one must monitor the status of the processing. We anticipate the message \"The data was loaded correctly.\"\n",
    "Additional details regarding the method can be found in Chapter 4.2 of the API documentation."
   ]
  },
  {
   "cell_type": "code",
   "execution_count": 26,
   "id": "e31ce4ce",
   "metadata": {},
   "outputs": [
    {
     "data": {
      "text/plain": [
       "\"The data was loaded correctly.\""
      ]
     },
     "execution_count": 26,
     "metadata": {},
     "output_type": "execute_result"
    }
   ],
   "source": [
    "check_status(user, password)"
   ]
  },
  {
   "cell_type": "markdown",
   "id": "16d8a659",
   "metadata": {},
   "source": [
    "Following that, we start the training process, for which parameter details are available in Chapter 4.4 of the API documentation.\n",
    "It's important to verify the training progress by using the \"check_status\" method, looking for the confirmation: \"The model was trained correctly.\""
   ]
  },
  {
   "cell_type": "code",
   "execution_count": 27,
   "id": "efe46c34",
   "metadata": {},
   "outputs": [
    {
     "data": {
      "text/plain": [
       "\"OK\""
      ]
     },
     "execution_count": 27,
     "metadata": {},
     "output_type": "execute_result"
    }
   ],
   "source": [
    "train(user, password, 100, 100, 0.1, \"Eva\", \"SU2U4\")"
   ]
  },
  {
   "cell_type": "code",
   "execution_count": 29,
   "id": "768aaa7e",
   "metadata": {},
   "outputs": [
    {
     "data": {
      "text/plain": [
       "\"The model was trained correctly.\""
      ]
     },
     "execution_count": 29,
     "metadata": {},
     "output_type": "execute_result"
    }
   ],
   "source": [
    "check_status(user, password)"
   ]
  },
  {
   "cell_type": "markdown",
   "id": "a7d85907",
   "metadata": {},
   "source": [
    "We retrieve the identified optimization parameters. Additional details regarding the method can be found in Chapter 4.5 of the API documentation."
   ]
  },
  {
   "cell_type": "code",
   "execution_count": 30,
   "id": "b08af8be",
   "metadata": {},
   "outputs": [],
   "source": [
    "params = get_parameters(user, password); nothing"
   ]
  },
  {
   "cell_type": "markdown",
   "id": "c4fd9602",
   "metadata": {},
   "source": [
    "Parameters are specific to each network structure and feature count combination. However, these combinations can undergo training with various optimization techniques.\n",
    "Providing these parameters allows us to resume optimization from where it was last left off."
   ]
  },
  {
   "cell_type": "code",
   "execution_count": 31,
   "id": "5829feef",
   "metadata": {},
   "outputs": [
    {
     "data": {
      "text/plain": [
       "\"OK\""
      ]
     },
     "execution_count": 31,
     "metadata": {},
     "output_type": "execute_result"
    }
   ],
   "source": [
    "train(user, password, 100, 100, 0.1, \"Adam\", \"SU2U4\", params=params,\n",
    "      beta=0.1, beta2=0.1)"
   ]
  },
  {
   "cell_type": "code",
   "execution_count": 33,
   "id": "a227c837",
   "metadata": {},
   "outputs": [
    {
     "data": {
      "text/plain": [
       "\"The model was trained correctly.\""
      ]
     },
     "execution_count": 33,
     "metadata": {},
     "output_type": "execute_result"
    }
   ],
   "source": [
    "check_status(user, password)"
   ]
  },
  {
   "cell_type": "code",
   "execution_count": 34,
   "id": "93bdaa7d",
   "metadata": {},
   "outputs": [],
   "source": [
    "params = get_parameters(user, password); nothing  "
   ]
  },
  {
   "cell_type": "markdown",
   "id": "a6dd6aef",
   "metadata": {},
   "source": [
    "Once our model is trained, we can evaluate its performance with a specified initial vector by utilizing the score method.\n",
    "Additional details regarding the method can be found in Chapter 4.6 of the API documentation."
   ]
  },
  {
   "cell_type": "code",
   "execution_count": 20,
   "id": "dc6dc29d",
   "metadata": {},
   "outputs": [
    {
     "data": {
      "text/plain": [
       "0.93235767"
      ]
     },
     "execution_count": 20,
     "metadata": {},
     "output_type": "execute_result"
    }
   ],
   "source": [
    "score(user, password, \"SU2U4\", [0.2222222222222224,0.41666666666666663,0.09756097560975609,0.05882352941176471], params)"
   ]
  },
  {
   "cell_type": "markdown",
   "id": "76af530d",
   "metadata": {},
   "source": [
    "Invoking the score function on the test dataset directly would not be efficient. Hence, it's advisable to transfer the test dataset to the same location as the training dataset using FTP.\n",
    "This allows for validation across the entire dataset. Details about the method's parameters are available in the API documentation in Chapter 4.6."
   ]
  },
  {
   "cell_type": "code",
   "execution_count": 35,
   "id": "d65e5fe1",
   "metadata": {},
   "outputs": [
    {
     "data": {
      "text/plain": [
       "\"OK\""
      ]
     },
     "execution_count": 35,
     "metadata": {},
     "output_type": "execute_result"
    }
   ],
   "source": [
    "# validate(user, password, \"testIris.csv\",\n",
    "#          [\"SepalLength\", \"SepalWidth\", \"PetalLength\", \"PetalWidth\"],\n",
    "#          \"Species\", \"SU2U4\", params)\n",
    "validate(user, password, \"testData.csv\",\n",
    "         [\"Dependents\", \"Education\", \"Self_Employed\", \"ApplicantIncome\", \"CoapplicantIncome\", \"LoanAmount\", \"Loan_Amount_Term\", \"Credit_History\", \"Property_Area\"],\n",
    "         \"Loan_Status\", \"SU2U4\", params)  "
   ]
  },
  {
   "cell_type": "markdown",
   "id": "fd193d2d",
   "metadata": {},
   "source": [
    "Keep in mind that the validation process runs on a separate thread, with the method returning confirmation that the server has undertaken the task.\n",
    "To ascertain the outcome of the validation, one must obtain the status."
   ]
  },
  {
   "cell_type": "code",
   "execution_count": 37,
   "id": "00acc880",
   "metadata": {},
   "outputs": [
    {
     "data": {
      "text/plain": [
       "\"Accuracy=0.9304347826086956, precision=0.9157894736842105, recall=1.0\""
      ]
     },
     "execution_count": 37,
     "metadata": {},
     "output_type": "execute_result"
    }
   ],
   "source": [
    "check_status(user, password)"
   ]
  },
  {
   "cell_type": "code",
   "execution_count": null,
   "id": "9f9d86c7",
   "metadata": {},
   "outputs": [],
   "source": []
  }
 ],
 "metadata": {
  "kernelspec": {
   "display_name": "Julia 1.8.0",
   "language": "julia",
   "name": "julia-1.8"
  },
  "language_info": {
   "file_extension": ".jl",
   "mimetype": "application/julia",
   "name": "julia",
   "version": "1.8.0"
  }
 },
 "nbformat": 4,
 "nbformat_minor": 5
}
